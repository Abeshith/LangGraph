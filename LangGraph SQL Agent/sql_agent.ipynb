{
 "cells": [
  {
   "cell_type": "code",
   "execution_count": 1,
   "id": "338ebbad",
   "metadata": {},
   "outputs": [],
   "source": [
    "import os\n",
    "import glob\n",
    "from dotenv import load_dotenv\n",
    "\n",
    "load_dotenv()\n",
    "\n",
    "os.environ[\"GROQ_API_KEY\"] = os.getenv(\"GROQ_API_KEY\")\n",
    "os.environ[\"TOGETHER_API_KEY\"] = os.getenv(\"TOGETHER_API_KEY\")\n",
    "os.environ[\"MISTRAL_API_KEY\"] = os.getenv(\"MISTRAL_API_KEY\")\n",
    "os.environ[\"TAVILY_API_KEY\"] = os.getenv(\"TAVILY_API_KEY\")\n",
    "os.environ[\"HF_TOKEN\"] = os.getenv(\"HF_TOKEN\")"
   ]
  },
  {
   "cell_type": "code",
   "execution_count": 2,
   "id": "0b32dbf4",
   "metadata": {},
   "outputs": [],
   "source": [
    "import os\n",
    "os.environ[\"GROQ_API_KEY\"]=os.getenv(\"GROQ_API_KEY\")\n",
    "os.environ[\"LANGSMITH_API_KEY\"]=os.getenv(\"LANGSMITH_API_KEY\")\n",
    "os.environ[\"LANGSMITH_TRACING\"]=\"true\"\n",
    "os.environ[\"LANGSMITH_PROJECT\"]=\"SQL AGENT\""
   ]
  },
  {
   "cell_type": "code",
   "execution_count": 3,
   "id": "14fea120",
   "metadata": {},
   "outputs": [],
   "source": [
    "import sqlite3\n",
    "\n",
    "connection = sqlite3.connect('employee.db')"
   ]
  },
  {
   "cell_type": "code",
   "execution_count": 4,
   "id": "f4e3c8ee",
   "metadata": {},
   "outputs": [],
   "source": [
    "## Employee table creation\n",
    "table_create_query = \"\"\"\n",
    "CREATE TABLE IF NOT EXISTS employee (\n",
    "    emp_id INTEGER PRIMARY KEY,\n",
    "    first_name TEXT NOT NULL,\n",
    "    last_name TEXT NOT NULL,\n",
    "    email TEXT UNIQUE NOT NULL,\n",
    "    hire_date TEXT NOT NULL,\n",
    "    salary REAL NOT NULL\n",
    ");\n",
    "\"\"\"\n",
    "## Customer table creation\n",
    "table_create_query2 = \"\"\"\n",
    "CREATE TABLE IF NOT EXISTS customer (\n",
    "    customer_id INTEGER PRIMARY KEY,\n",
    "    first_name TEXT NOT NULL,\n",
    "    last_name TEXT NOT NULL,\n",
    "    email TEXT UNIQUE NOT NULL,\n",
    "    phone TEXT NOT NULL\n",
    ");\n",
    "\"\"\"\n",
    "\n",
    "## Order table creation\n",
    "table_create_query3 = \"\"\"\n",
    "CREATE TABLE IF NOT EXISTS orders (\n",
    "    order_id INTEGER PRIMARY KEY,\n",
    "    customer_id INTEGER NOT NULL,\n",
    "    order_date TEXT NOT NULL,\n",
    "    total_amount REAL NOT NULL,\n",
    "    FOREIGN KEY (customer_id) REFERENCES customer(customer_id)\n",
    ");\n",
    "\"\"\"\n",
    "\n",
    "cursor = connection.cursor()"
   ]
  },
  {
   "cell_type": "code",
   "execution_count": 5,
   "id": "a848b9b7",
   "metadata": {},
   "outputs": [
    {
     "data": {
      "text/plain": [
       "<sqlite3.Cursor at 0x140a648ef40>"
      ]
     },
     "execution_count": 5,
     "metadata": {},
     "output_type": "execute_result"
    }
   ],
   "source": [
    "cursor.execute(table_create_query)\n",
    "cursor.execute(table_create_query2)\n",
    "cursor.execute(table_create_query3)"
   ]
  },
  {
   "cell_type": "code",
   "execution_count": 6,
   "id": "7b89ac6a",
   "metadata": {},
   "outputs": [],
   "source": [
    "insert_employee_query = \"\"\"\n",
    "INSERT INTO employee (emp_id, first_name, last_name, email, hire_date, salary)\n",
    "VALUES (?, ?, ?, ?, ?, ?);\n",
    "\"\"\"\n",
    "\n",
    "insert_customer_query = \"\"\"\n",
    "INSERT INTO customer (customer_id, first_name, last_name, email, phone)\n",
    "VALUES (?, ?, ?, ?, ?);\n",
    "\"\"\"\n",
    "\n",
    "insert_order_query = \"\"\"\n",
    "INSERT INTO orders (order_id, customer_id, order_date, total_amount)\n",
    "VALUES (?, ?, ?, ?);\n",
    "\"\"\""
   ]
  },
  {
   "cell_type": "code",
   "execution_count": 7,
   "id": "4fce976b",
   "metadata": {},
   "outputs": [],
   "source": [
    "employee_data = [\n",
    "    (1, 'John', 'Doe', 'john.doe@gmail.com', '2023-01-15', 60000.00),\n",
    "    (2, 'Jane', 'Smith', 'jane@yahoo.com', '2023-02-20', 75000.00),\n",
    "    (3, 'Alice', 'Johnson', 'alice@gmail.com', '2023-03-10', 50000.00),\n",
    "    (4, 'Bob', 'Brown', 'bob@microsoft.com', '2023-04-05', 80000.00),\n",
    "]\n",
    "\n",
    "customer_data = [\n",
    "    (1, 'Charlie', 'Davis', 'charlie.dav@gmail.com', '123-456-7890'),\n",
    "    (2, 'Diana', 'Wilson', 'diana@yahoo.com', '987-654-3210'),\n",
    "    (3, 'Ethan', 'Martinez', 'ethan@mgr.com', '555-123-4567'),\n",
    "    (4, 'Fiona', 'Garcia', 'fiona.garcia@anime.com', '444-987-6543'),\n",
    "]\n",
    "\n",
    "order_data = [\n",
    "    (1, 1, '2023-05-01', 150.00),\n",
    "    (2, 2, '2023-05-02', 200.00),\n",
    "    (3, 3, '2023-05-03', 300.00),\n",
    "    (4, 4, '2023-05-04', 400.00),\n",
    "]"
   ]
  },
  {
   "cell_type": "code",
   "execution_count": 8,
   "id": "eb122676",
   "metadata": {},
   "outputs": [
    {
     "data": {
      "text/plain": [
       "<sqlite3.Cursor at 0x140a648ef40>"
      ]
     },
     "execution_count": 8,
     "metadata": {},
     "output_type": "execute_result"
    }
   ],
   "source": [
    "cursor.executemany(insert_employee_query, employee_data)\n",
    "cursor.executemany(insert_customer_query, customer_data)\n",
    "cursor.executemany(insert_order_query, order_data)"
   ]
  },
  {
   "cell_type": "code",
   "execution_count": 9,
   "id": "ae2a38a0",
   "metadata": {},
   "outputs": [],
   "source": [
    "connection.commit()"
   ]
  },
  {
   "cell_type": "code",
   "execution_count": 10,
   "id": "35617a2d",
   "metadata": {},
   "outputs": [
    {
     "name": "stdout",
     "output_type": "stream",
     "text": [
      "(1, 'John', 'Doe', 'john.doe@gmail.com', '2023-01-15', 60000.0)\n",
      "(2, 'Jane', 'Smith', 'jane@yahoo.com', '2023-02-20', 75000.0)\n",
      "(3, 'Alice', 'Johnson', 'alice@gmail.com', '2023-03-10', 50000.0)\n",
      "(4, 'Bob', 'Brown', 'bob@microsoft.com', '2023-04-05', 80000.0)\n"
     ]
    }
   ],
   "source": [
    "cursor.execute('select * from employee')\n",
    "for row in cursor.fetchall():\n",
    "    print(row)"
   ]
  },
  {
   "cell_type": "code",
   "execution_count": 11,
   "id": "bf2667d0",
   "metadata": {},
   "outputs": [
    {
     "data": {
      "text/plain": [
       "[('Jane', 75000.0), ('Bob', 80000.0)]"
      ]
     },
     "execution_count": 11,
     "metadata": {},
     "output_type": "execute_result"
    }
   ],
   "source": [
    "cursor.execute(\"select first_name, salary from employee where salary > 60000\")\n",
    "cursor.fetchall()"
   ]
  },
  {
   "cell_type": "code",
   "execution_count": 12,
   "id": "a13db06f",
   "metadata": {},
   "outputs": [
    {
     "data": {
      "text/plain": [
       "[('employee',), ('customer',), ('orders',)]"
      ]
     },
     "execution_count": 12,
     "metadata": {},
     "output_type": "execute_result"
    }
   ],
   "source": [
    "cursor.execute(\"SELECT name FROM sqlite_master WHERE type='table';\")\n",
    "cursor.fetchall()"
   ]
  },
  {
   "cell_type": "code",
   "execution_count": 13,
   "id": "e63ba9fb",
   "metadata": {},
   "outputs": [],
   "source": [
    "import os\n",
    "from dotenv import load_dotenv\n",
    "\n",
    "load_dotenv()\n",
    "GROQ_API_KEY = os.getenv(\"GROQ_API_KEY\")\n",
    "os.environ[\"GROQ_API_KEY\"] = GROQ_API_KEY"
   ]
  },
  {
   "cell_type": "code",
   "execution_count": 14,
   "id": "f7fe8716",
   "metadata": {},
   "outputs": [],
   "source": [
    "from langchain_groq import ChatGroq\n",
    "llm = ChatGroq(model=\"gemma2-9b-it\")"
   ]
  },
  {
   "cell_type": "code",
   "execution_count": 18,
   "id": "bd103b54",
   "metadata": {},
   "outputs": [],
   "source": [
    "from langchain_community.utilities import SQLDatabase\n",
    "db = SQLDatabase.from_uri(\"sqlite:///employee.db\")"
   ]
  },
  {
   "cell_type": "code",
   "execution_count": 19,
   "id": "2ed4b4a0",
   "metadata": {},
   "outputs": [
    {
     "name": "stdout",
     "output_type": "stream",
     "text": [
      "Dialect: sqlite\n",
      "Tables: ['customer', 'employee', 'orders']\n"
     ]
    }
   ],
   "source": [
    "print(\"Dialect:\", db.dialect) ### Variant of SQL dialect\n",
    "print(\"Tables:\", db.get_usable_table_names())"
   ]
  },
  {
   "cell_type": "code",
   "execution_count": 20,
   "id": "78389e70",
   "metadata": {},
   "outputs": [
    {
     "name": "stdout",
     "output_type": "stream",
     "text": [
      "[(2, 'Jane', 'Smith', 'jane@yahoo.com', '2023-02-20', 75000.0), (4, 'Bob', 'Brown', 'bob@microsoft.com', '2023-04-05', 80000.0)]\n"
     ]
    }
   ],
   "source": [
    "query = db.run(\"SELECT * FROM employee WHERE salary > 60000\")\n",
    "print(query)"
   ]
  },
  {
   "cell_type": "code",
   "execution_count": 21,
   "id": "b94e4f6f",
   "metadata": {},
   "outputs": [
    {
     "name": "stdout",
     "output_type": "stream",
     "text": [
      "sql_db_query - Input to this tool is a detailed and correct SQL query, output is a result from the database. If the query is not correct, an error message will be returned. If an error is returned, rewrite the query, check the query, and try again. If you encounter an issue with Unknown column 'xxxx' in 'field list', use sql_db_schema to query the correct table fields.\n",
      "\n",
      "sql_db_schema - Input to this tool is a comma-separated list of tables, output is the schema and sample rows for those tables. Be sure that the tables actually exist by calling sql_db_list_tables first! Example Input: table1, table2, table3\n",
      "\n",
      "sql_db_list_tables - Input is an empty string, output is a comma-separated list of tables in the database.\n",
      "\n",
      "sql_db_query_checker - Use this tool to double check if your query is correct before executing it. Always use this tool before executing a query with sql_db_query!\n",
      "\n"
     ]
    }
   ],
   "source": [
    "from langchain_community.agent_toolkits import SQLDatabaseToolkit\n",
    "toolkit = SQLDatabaseToolkit(db=db, llm=llm)\n",
    "\n",
    "tools = toolkit.get_tools()\n",
    "for tool in tools:\n",
    "    print(tool.name + \" - \" + tool.description + \"\\n\")"
   ]
  },
  {
   "cell_type": "code",
   "execution_count": 22,
   "id": "35ca1116",
   "metadata": {},
   "outputs": [
    {
     "data": {
      "text/plain": [
       "ListSQLDatabaseTool(db=<langchain_community.utilities.sql_database.SQLDatabase object at 0x00000140AA1B1D90>)"
      ]
     },
     "execution_count": 22,
     "metadata": {},
     "output_type": "execute_result"
    }
   ],
   "source": [
    "list_tables_tool = next((tool for tool in tools if tool.name == \"sql_db_list_tables\"), None)\n",
    "list_tables_tool"
   ]
  },
  {
   "cell_type": "code",
   "execution_count": 23,
   "id": "3878facd",
   "metadata": {},
   "outputs": [
    {
     "data": {
      "text/plain": [
       "InfoSQLDatabaseTool(description='Input to this tool is a comma-separated list of tables, output is the schema and sample rows for those tables. Be sure that the tables actually exist by calling sql_db_list_tables first! Example Input: table1, table2, table3', db=<langchain_community.utilities.sql_database.SQLDatabase object at 0x00000140AA1B1D90>)"
      ]
     },
     "execution_count": 23,
     "metadata": {},
     "output_type": "execute_result"
    }
   ],
   "source": [
    "get_schema_tool = next((tool for tool in tools if tool.name == \"sql_db_schema\"), None)\n",
    "get_schema_tool"
   ]
  },
  {
   "cell_type": "code",
   "execution_count": 24,
   "id": "6fb9c306",
   "metadata": {},
   "outputs": [
    {
     "name": "stdout",
     "output_type": "stream",
     "text": [
      "customer, employee, orders\n",
      "\n",
      "CREATE TABLE customer (\n",
      "\tcustomer_id INTEGER, \n",
      "\tfirst_name TEXT NOT NULL, \n",
      "\tlast_name TEXT NOT NULL, \n",
      "\temail TEXT NOT NULL, \n",
      "\tphone TEXT NOT NULL, \n",
      "\tPRIMARY KEY (customer_id), \n",
      "\tUNIQUE (email)\n",
      ")\n",
      "\n",
      "/*\n",
      "3 rows from customer table:\n",
      "customer_id\tfirst_name\tlast_name\temail\tphone\n",
      "1\tCharlie\tDavis\tcharlie.dav@gmail.com\t123-456-7890\n",
      "2\tDiana\tWilson\tdiana@yahoo.com\t987-654-3210\n",
      "3\tEthan\tMartinez\tethan@mgr.com\t555-123-4567\n",
      "*/\n"
     ]
    }
   ],
   "source": [
    "print(list_tables_tool.invoke(\"\"))\n",
    "print(get_schema_tool.invoke(\"customer\"))"
   ]
  },
  {
   "cell_type": "code",
   "execution_count": 25,
   "id": "8914d50e",
   "metadata": {},
   "outputs": [
    {
     "name": "stdout",
     "output_type": "stream",
     "text": [
      "[(2, 'Jane', 'Smith', 'jane@yahoo.com', '2023-02-20', 75000.0), (4, 'Bob', 'Brown', 'bob@microsoft.com', '2023-04-05', 80000.0)]\n"
     ]
    }
   ],
   "source": [
    "from langchain_core.tools import tool\n",
    "\n",
    "@tool\n",
    "def db_query_tool(query: str) -> str:\n",
    "    \"\"\"Run a SQL query against the database.\"\"\"\n",
    "\n",
    "    result = db.run_no_throw(query)\n",
    "    if not result:\n",
    "        return \"No results found.\"\n",
    "    \n",
    "    return result\n",
    "\n",
    "print(db_query_tool.invoke(\"SELECT * FROM employee WHERE salary > 60000\"))"
   ]
  },
  {
   "cell_type": "code",
   "execution_count": 26,
   "id": "2e02bee9",
   "metadata": {},
   "outputs": [],
   "source": [
    "from pydantic import BaseModel, Field\n",
    "class FianlAnswer(BaseModel):\n",
    "    \"\"\"Submit the final answer to the user, based on the query results.\"\"\"\n",
    "    final_answer: str = Field(..., description=\"The final answer to the user's question based on the query results.\")"
   ]
  },
  {
   "cell_type": "code",
   "execution_count": 27,
   "id": "c962b9f6",
   "metadata": {},
   "outputs": [],
   "source": [
    "from typing import TypedDict, List, Annotated\n",
    "from langgraph.graph.message import AnyMessage, add_messages\n",
    "\n",
    "class State(TypedDict):\n",
    "    messages: Annotated[list[AnyMessage], add_messages]"
   ]
  },
  {
   "cell_type": "code",
   "execution_count": 28,
   "id": "08aaeb3c",
   "metadata": {},
   "outputs": [
    {
     "data": {
      "text/plain": [
       "AIMessage(content='', additional_kwargs={'tool_calls': [{'id': 'q3m6k7mnw', 'function': {'arguments': '{\"query\":\"SELECT * FROM employee WHERE salary \\\\u003e 60000\"}', 'name': 'db_query_tool'}, 'type': 'function'}]}, response_metadata={'token_usage': {'completion_tokens': 96, 'prompt_tokens': 1087, 'total_tokens': 1183, 'completion_time': 0.174545455, 'prompt_time': 0.020865729, 'queue_time': 0.256458191, 'total_time': 0.195411184}, 'model_name': 'gemma2-9b-it', 'system_fingerprint': 'fp_10c08bf97d', 'finish_reason': 'tool_calls', 'logprobs': None}, id='run--9518aef5-b9ee-4d84-8335-d6fc8d6d79fe-0', tool_calls=[{'name': 'db_query_tool', 'args': {'query': 'SELECT * FROM employee WHERE salary > 60000'}, 'id': 'q3m6k7mnw', 'type': 'tool_call'}], usage_metadata={'input_tokens': 1087, 'output_tokens': 96, 'total_tokens': 1183})"
      ]
     },
     "execution_count": 28,
     "metadata": {},
     "output_type": "execute_result"
    }
   ],
   "source": [
    "from langchain_core.prompts import ChatPromptTemplate\n",
    "template = \"\"\"You are a SQL expert with a strong understanding of relational databases.\n",
    "Double check the SQLite query for common mistakes, including:\n",
    "- Using NOT IN with NULL values\n",
    "- Using UNION when UNION ALL should have been used\n",
    "- Using BETWEEN for exclusive ranges\n",
    "- Data type mismatch in predicates\n",
    "- Properly quoting identifiers\n",
    "- Using the correct number of arguments for functions\n",
    "- Casting to the correct data type\n",
    "- Using the proper columns for joins\n",
    "\n",
    "If there are any of the above mistakes, rewrite the query. If there are no mistakes, just reproduce the original query.\n",
    "\n",
    "You will call the appropriate tool to execute the query after running this check. \n",
    "\"\"\"\n",
    "\n",
    "prompt = ChatPromptTemplate.from_messages([(\"system\", template), (\"placeholder\", \"{messages}\")])\n",
    "\n",
    "query_check = prompt | llm.bind_tools([db_query_tool])\n",
    "\n",
    "query_check.invoke({\"messages\": [(\"user\", \"SELECT * FROM employee WHERE salary > 60000\")]})"
   ]
  },
  {
   "cell_type": "code",
   "execution_count": 29,
   "id": "86c0203c",
   "metadata": {},
   "outputs": [],
   "source": [
    "query_generation = \"\"\"You are a SQL expert with a strong attention to detail.\n",
    "\n",
    "Given an input question, output a syntactically correct SQLite query to run, then look at the results of the query and return the answer.\n",
    "\n",
    "DO NOT call any tool besides FianlAnswer to submit the final answer.\n",
    "\n",
    "When generating the query:\n",
    "\n",
    "Output the SQL query that answers the input question without a tool call.\n",
    "\n",
    "Unless the user specifies a specific number of examples they wish to obtain, always limit your query to at most 5 results.\n",
    "You can order the results by a relevant column to return the most interesting examples in the database.\n",
    "Never query for all the columns from a specific table, only ask for the relevant columns given the question.\n",
    "\n",
    "If you get an error while executing a query, rewrite the query and try again.\n",
    "\n",
    "If you get an empty result set, you should try to rewrite the query to get a non-empty result set.\n",
    "NEVER make stuff up if you don't have enough information to answer the query... just say you don't have enough information.\n",
    "\n",
    "If you have enough information to answer the input question, simply invoke the appropriate tool to submit the final answer to the user.\n",
    "\n",
    "DO NOT make any DML statements (INSERT, UPDATE, DELETE, DROP etc.) to the database. Do not return any sql query except answer.\"\"\"\n",
    "\n",
    "\n",
    "query_generation_prompt = ChatPromptTemplate.from_messages([(\"system\", query_generation), (\"placeholder\", \"{messages}\")])\n",
    "\n",
    "query_generation_tool = query_generation_prompt | llm.bind_tools([FianlAnswer])"
   ]
  },
  {
   "cell_type": "code",
   "execution_count": 30,
   "id": "16aa45fd",
   "metadata": {},
   "outputs": [],
   "source": [
    "from langchain_core.messages import AIMessage, ToolMessage\n",
    "from langgraph.graph import StateGraph, START, END\n",
    "from langchain_core.runnables import RunnableLambda, RunnableWithFallbacks\n",
    "from langgraph.prebuilt import ToolNode\n",
    "from typing import Any, Literal"
   ]
  },
  {
   "cell_type": "code",
   "execution_count": 31,
   "id": "d5e2afa2",
   "metadata": {},
   "outputs": [],
   "source": [
    "def initialize_db_discovery(state: State) -> dict[str, list[AIMessage]]:\n",
    "    \"\"\"Initialize the database discovery process by listing all available tables.\"\"\"\n",
    "    return {\n",
    "        \"messages\": [\n",
    "            AIMessage(\n",
    "                content=\"\",\n",
    "                tool_calls=[{\n",
    "                    \"name\": \"sql_db_list_tables\",\n",
    "                    \"args\": {},\n",
    "                    \"id\": \"tool_abcd123\"\n",
    "                }]\n",
    "            )\n",
    "        ]\n",
    "    }"
   ]
  },
  {
   "cell_type": "code",
   "execution_count": 32,
   "id": "e5aba121",
   "metadata": {},
   "outputs": [],
   "source": [
    "def handle_tool_execution_error(state: State) -> dict:\n",
    "    \"\"\"Handle errors that occur during tool execution.\"\"\"\n",
    "    error = state.get(\"error\") \n",
    "    tool_calls = state[\"messages\"][-1].tool_calls\n",
    "    return {\n",
    "        \"messages\": [\n",
    "            ToolMessage(\n",
    "                content=f\"Error: {repr(error)}\\nPlease fix your mistakes.\",\n",
    "                tool_call_id=tc[\"id\"],\n",
    "            )\n",
    "            for tc in tool_calls\n",
    "        ]\n",
    "    }"
   ]
  },
  {
   "cell_type": "code",
   "execution_count": 33,
   "id": "ea729309",
   "metadata": {},
   "outputs": [],
   "source": [
    "def create_tool_node_with_error_fallback(tools: list) -> RunnableWithFallbacks[Any, dict]:\n",
    "    \"\"\"Create a tool node with error handling fallback mechanism.\"\"\"\n",
    "    return ToolNode(tools).with_fallbacks(\n",
    "        [RunnableLambda(handle_tool_execution_error)], \n",
    "        exception_key=\"error\"\n",
    "    )"
   ]
  },
  {
   "cell_type": "code",
   "execution_count": 34,
   "id": "f7ec79a0",
   "metadata": {},
   "outputs": [],
   "source": [
    "def generate_sql_query_node(state: State):\n",
    "    \"\"\"Generate SQL query based on user input and handle incorrect tool calls.\"\"\"\n",
    "    message = query_generation_tool.invoke(state)\n",
    "\n",
    "    # Handle cases where the LLM might call the wrong tool\n",
    "    tool_messages = []\n",
    "    if message.tool_calls:\n",
    "        for tc in message.tool_calls:\n",
    "            if tc[\"name\"] != \"FianlAnswer\":  # Note: keeping original typo for consistency\n",
    "                tool_messages.append(\n",
    "                    ToolMessage(\n",
    "                        content=f\"Error: The wrong tool was called: {tc['name']}. \"\n",
    "                               f\"Please fix your mistakes. Remember to only call FianlAnswer to submit the final answer. \"\n",
    "                               f\"Generated queries should be outputted WITHOUT a tool call.\",\n",
    "                        tool_call_id=tc[\"id\"],\n",
    "                    )\n",
    "                )\n",
    "    \n",
    "    return {\"messages\": [message] + tool_messages}"
   ]
  },
  {
   "cell_type": "code",
   "execution_count": 35,
   "id": "2d2cbcd8",
   "metadata": {},
   "outputs": [],
   "source": [
    "def route_after_query_generation(state: State) -> Literal[END, \"validate_and_execute_query\", \"generate_sql_query\"]:\n",
    "    \"\"\"Route to the next node based on the current state of query generation.\"\"\"\n",
    "    messages = state[\"messages\"]\n",
    "    last_message = messages[-1]\n",
    "    \n",
    "    # If tool calls exist, we're done (final answer submitted)\n",
    "    if getattr(last_message, \"tool_calls\", None):\n",
    "        return END\n",
    "    \n",
    "    # If there's an error, regenerate the query\n",
    "    if last_message.content.startswith(\"Error:\"):\n",
    "        return \"generate_sql_query\"\n",
    "    \n",
    "    # Otherwise, validate and execute the query\n",
    "    return \"validate_and_execute_query\""
   ]
  },
  {
   "cell_type": "code",
   "execution_count": 36,
   "id": "394139c9",
   "metadata": {},
   "outputs": [],
   "source": [
    "def validate_sql_query(state: State) -> dict[str, list[AIMessage]]:\n",
    "    \"\"\"Validate the generated SQL query for correctness before execution.\"\"\"\n",
    "    return {\"messages\": [query_check.invoke({\"messages\": [state[\"messages\"][-1]]})]}"
   ]
  },
  {
   "cell_type": "code",
   "execution_count": 37,
   "id": "5c3ac71c",
   "metadata": {},
   "outputs": [
    {
     "data": {
      "image/png": "[encoded data removed]",
      "text/plain": [
       "<langgraph.graph.state.CompiledStateGraph object at 0x00000140B0CFBFD0>"
      ]
     },
     "execution_count": 37,
     "metadata": {},
     "output_type": "execute_result"
    }
   ],
   "source": [
    "# Create the state graph\n",
    "graph = StateGraph(State)\n",
    "\n",
    "# Add nodes with descriptive names\n",
    "graph.add_node(\"initialize_db_discovery\", initialize_db_discovery)\n",
    "graph.add_node(\"list_database_tables\", create_tool_node_with_error_fallback([list_tables_tool]))\n",
    "graph.add_node(\"get_table_schemas\", create_tool_node_with_error_fallback([get_schema_tool]))\n",
    "\n",
    "# Create model for schema retrieval\n",
    "model_get_schema = llm.bind_tools([get_schema_tool])\n",
    "graph.add_node(\n",
    "    \"request_table_schemas\",\n",
    "    lambda state: {\"messages\": [model_get_schema.invoke(state[\"messages\"])]},\n",
    ")\n",
    "\n",
    "graph.add_node(\"generate_sql_query\", generate_sql_query_node)\n",
    "graph.add_node(\"validate_and_execute_query\", validate_sql_query)\n",
    "graph.add_node(\"execute_sql_query\", create_tool_node_with_error_fallback([db_query_tool]))\n",
    "\n",
    "# Define the workflow edges\n",
    "graph.add_edge(START, \"initialize_db_discovery\")\n",
    "graph.add_edge(\"initialize_db_discovery\", \"list_database_tables\")\n",
    "graph.add_edge(\"list_database_tables\", \"request_table_schemas\")\n",
    "graph.add_edge(\"request_table_schemas\", \"get_table_schemas\")\n",
    "graph.add_edge(\"get_table_schemas\", \"generate_sql_query\")\n",
    "\n",
    "# Add conditional routing after query generation\n",
    "graph.add_conditional_edges(\"generate_sql_query\", route_after_query_generation)\n",
    "\n",
    "# Complete the workflow\n",
    "graph.add_edge(\"validate_and_execute_query\", \"execute_sql_query\")\n",
    "graph.add_edge(\"execute_sql_query\", \"generate_sql_query\")\n",
    "\n",
    "# Compile the graph\n",
    "builder = graph.compile()\n",
    "\n",
    "builder"
   ]
  },
  {
   "cell_type": "code",
   "execution_count": 38,
   "id": "d894935a",
   "metadata": {},
   "outputs": [
    {
     "name": "stdout",
     "output_type": "stream",
     "text": [
      "John Doe, Jane Smith, Alice Johnson\n"
     ]
    }
   ],
   "source": [
    "query={\"messages\": [(\"user\", \"Tell me name of all the employees who's salary is more than 30000?\")]}\n",
    "result = builder.invoke(query)\n",
    "print(result[\"messages\"][-1].tool_calls[0][\"args\"][\"final_answer\"])"
   ]
  },
  {
   "cell_type": "code",
   "execution_count": 39,
   "id": "8c6f3c43",
   "metadata": {},
   "outputs": [
    {
     "data": {
      "text/plain": [
       "\"[('John', 'Doe'), ('Jane', 'Smith'), ('Alice', 'Johnson'), ('Bob', 'Brown')]\""
      ]
     },
     "execution_count": 39,
     "metadata": {},
     "output_type": "execute_result"
    }
   ],
   "source": [
    "db.run(\"SELECT first_name, last_name FROM employee WHERE salary > 30000\")"
   ]
  }
 ],
 "metadata": {
  "kernelspec": {
   "display_name": "langgraph-handson",
   "language": "python",
   "name": "python3"
  },
  "language_info": {
   "codemirror_mode": {
    "name": "ipython",
    "version": 3
   },
   "file_extension": ".py",
   "mimetype": "text/x-python",
   "name": "python",
   "nbconvert_exporter": "python",
   "pygments_lexer": "ipython3",
   "version": "3.11.1"
  }
 },
 "nbformat": 4,
 "nbformat_minor": 5
}
