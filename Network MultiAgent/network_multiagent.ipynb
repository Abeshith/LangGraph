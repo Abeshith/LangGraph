{
 "cells": [
  {
   "cell_type": "code",
   "execution_count": 1,
   "id": "f784d9c9",
   "metadata": {},
   "outputs": [],
   "source": [
    "import os\n",
    "import glob\n",
    "from dotenv import load_dotenv\n",
    "\n",
    "load_dotenv()\n",
    "\n",
    "os.environ[\"GROQ_API_KEY\"] = os.getenv(\"GROQ_API_KEY\")\n",
    "os.environ[\"TOGETHER_API_KEY\"] = os.getenv(\"TOGETHER_API_KEY\")\n",
    "os.environ[\"MISTRAL_API_KEY\"] = os.getenv(\"MISTRAL_API_KEY\")\n",
    "os.environ[\"TAVILY_API_KEY\"] = os.getenv(\"TAVILY_API_KEY\")\n",
    "os.environ[\"HF_TOKEN\"] = os.getenv(\"HF_TOKEN\")"
   ]
  },
  {
   "cell_type": "code",
   "execution_count": 2,
   "id": "2d8c692d",
   "metadata": {},
   "outputs": [],
   "source": [
    "import os\n",
    "os.environ[\"GROQ_API_KEY\"]=os.getenv(\"GROQ_API_KEY\")\n",
    "os.environ[\"LANGSMITH_API_KEY\"]=os.getenv(\"LANGSMITH_API_KEY\")\n",
    "os.environ[\"LANGSMITH_TRACING\"]=\"true\"\n",
    "os.environ[\"LANGSMITH_PROJECT\"]=\"Network MultiAgent\""
   ]
  },
  {
   "cell_type": "code",
   "execution_count": 3,
   "id": "f7bff1eb",
   "metadata": {},
   "outputs": [],
   "source": [
    "from langchain_groq import ChatGroq\n",
    "llm = ChatGroq(model=\"gemma2-9b-it\")"
   ]
  },
  {
   "cell_type": "code",
   "execution_count": 4,
   "id": "a23a5b0c",
   "metadata": {},
   "outputs": [],
   "source": [
    "from langgraph.graph import MessagesState, StateGraph,START,END\n",
    "from langgraph.types import Command\n",
    "from langchain_core.tools import tool\n",
    "from typing_extensions import Literal"
   ]
  },
  {
   "cell_type": "code",
   "execution_count": 5,
   "id": "1851ff16",
   "metadata": {},
   "outputs": [],
   "source": [
    "@tool\n",
    "def transfer_to_travel_advisor():\n",
    "    \"\"\"Ask travel advisor for help.\"\"\"\n",
    "    return\n",
    "@tool\n",
    "def transfer_to_hotel_advisor():\n",
    "    \"\"\"Ask hotel advisor for help.\"\"\"\n",
    "    return"
   ]
  },
  {
   "cell_type": "code",
   "execution_count": 28,
   "id": "38b86592",
   "metadata": {},
   "outputs": [],
   "source": [
    "def travel_advisor(state: MessagesState) -> Command[Literal[\"hotel_advisor\", \"__end__\"]]:\n",
    "    system_prompt = \"\"\"\n",
    "    You are a general travel expert that can recommend travel destinations (e.g. countries, cities, etc).\n",
    "    Your job is to recommend travel destinations based on user queries and provide:\n",
    "    - Top places to visit in the destination (at least 3-5 with a short description for each)\n",
    "    - Popular airlines or flight options available from the user's origin to the destination\n",
    "    - For each destination, suggest a few hotel names (at least 2-3) that are well-known or highly rated\n",
    "    Don't bother about budget or specific booking details, just provide general travel advice and options.\n",
    "    Recommend when to travel and what are the best times to visit which places.\n",
    "    If you need more detailed hotel recommendations, ask 'hotel_advisor' for help.\n",
    "    Provide answers only on the user's query, not ask anything specific to provide.\n",
    "    \"\"\"\n",
    "    messages = [{\"role\": \"system\", \"content\": system_prompt}] + state[\"messages\"]\n",
    "    ai_msg = llm.bind_tools([transfer_to_hotel_advisor]).invoke(messages)\n",
    "    if len(ai_msg.tool_calls) > 0:\n",
    "        tool_call_id = ai_msg.tool_calls[-1][\"id\"]\n",
    "        tool_msg = {\n",
    "            \"role\": \"tool\",\n",
    "            \"content\": \"Successfully transferred\",\n",
    "            \"tool_call_id\": tool_call_id,\n",
    "        }\n",
    "        return Command(goto=\"hotel_advisor\", update={\"messages\": [ai_msg, tool_msg]})\n",
    "    return {\"messages\": [ai_msg]}\n"
   ]
  },
  {
   "cell_type": "code",
   "execution_count": 26,
   "id": "5ad82dd2",
   "metadata": {},
   "outputs": [],
   "source": [
    "def hotel_advisor(state: MessagesState) -> Command[Literal[\"travel_advisor\", \"__end__\"]]:\n",
    "    system_prompt = \"\"\"\n",
    "    You are a hotel expert that can provide hotel recommendations for a given destination.\n",
    "    Your role is to provide the best and most detailed hotel options based on user queries.\n",
    "    Don't bother about budget or specific hotels, just provide the best service.\n",
    "    For each destination, provide:\n",
    "    - A list of top hotels (at least 3-5),\n",
    "    - Their locations (city/area),\n",
    "    - Key amenities (e.g., pool, gym, free breakfast, WiFi, etc.),\n",
    "    - Hotel type (luxury, boutique, family-friendly, business, etc.),\n",
    "    - Any unique features or highlights.\n",
    "    Provide the best hotel options based on user queries and all types of hotels in California.\n",
    "    If you need help picking travel destinations, ask 'travel_advisor' for help.\n",
    "    Provide answers only on the user's query, not ask anything specific to provide.\n",
    "    \"\"\"\n",
    "    messages = [{\"role\": \"system\", \"content\": system_prompt}] + state[\"messages\"]\n",
    "    ai_msg = llm.bind_tools([transfer_to_travel_advisor]).invoke(messages)\n",
    "    if len(ai_msg.tool_calls) > 0:\n",
    "        tool_call_id = ai_msg.tool_calls[-1][\"id\"]\n",
    "        tool_msg = {\n",
    "            \"role\": \"tool\",\n",
    "            \"content\": \"Successfully transferred\",\n",
    "            \"tool_call_id\": tool_call_id,\n",
    "        }\n",
    "        return Command(goto=\"travel_advisor\", update={\"messages\": [ai_msg, tool_msg]})\n",
    "    return {\"messages\": [ai_msg]}\n"
   ]
  },
  {
   "cell_type": "code",
   "execution_count": 22,
   "id": "1183e322",
   "metadata": {},
   "outputs": [
    {
     "data": {
      "image/png": "[encoded data removed]",
      "text/plain": [
       "<langgraph.graph.state.CompiledStateGraph object at 0x000002AA68C7A810>"
      ]
     },
     "execution_count": 22,
     "metadata": {},
     "output_type": "execute_result"
    }
   ],
   "source": [
    "graph = StateGraph(MessagesState)\n",
    "graph.add_node(\"travel_advisor\", travel_advisor)\n",
    "graph.add_node(\"hotel_advisor\", hotel_advisor)\n",
    "\n",
    "graph.add_edge(START, \"travel_advisor\")\n",
    "\n",
    "builder = graph.compile()\n",
    "\n",
    "builder"
   ]
  },
  {
   "cell_type": "code",
   "execution_count": 23,
   "id": "0b8a3808",
   "metadata": {},
   "outputs": [],
   "source": [
    "from langchain_core.messages import convert_to_messages\n",
    "def pretty_print_messages(update):\n",
    "    if isinstance(update, tuple):\n",
    "        ns, update = update\n",
    "        # skip parent graph updates in the printouts\n",
    "        if len(ns) == 0:\n",
    "            return\n",
    "\n",
    "        graph_id = ns[-1].split(\":\")[0]\n",
    "        print(f\"Update from subgraph {graph_id}:\")\n",
    "        print(\"\\n\")\n",
    "\n",
    "    for node_name, node_update in update.items():\n",
    "        print(f\"Update from node {node_name}:\")\n",
    "        print(\"\\n\")\n",
    "\n",
    "        for m in convert_to_messages(node_update[\"messages\"]):\n",
    "            m.pretty_print()\n",
    "        print(\"\\n\")"
   ]
  },
  {
   "cell_type": "code",
   "execution_count": 36,
   "id": "121425aa",
   "metadata": {},
   "outputs": [
    {
     "name": "stdout",
     "output_type": "stream",
     "text": [
      "****chunk****\n",
      "Update from node travel_advisor:\n",
      "\n",
      "\n",
      "==================================\u001b[1m Ai Message \u001b[0m==================================\n",
      "Tool Calls:\n",
      "  transfer_to_hotel_advisor (6463qsxs6)\n",
      " Call ID: 6463qsxs6\n",
      "  Args:\n",
      "=================================\u001b[1m Tool Message \u001b[0m=================================\n",
      "\n",
      "Successfully transferred\n",
      "\n",
      "\n",
      "****chunk****\n",
      "Update from node hotel_advisor:\n",
      "\n",
      "\n",
      "==================================\u001b[1m Ai Message \u001b[0m==================================\n",
      "\n",
      "The Maldives offers a stunning array of islands, each with its own unique charm.  \n",
      "\n",
      "For a memorable trip, consider visiting:\n",
      "\n",
      "* **Malé:** The vibrant capital city boasts bustling markets, historical sites, and delicious seafood restaurants. \n",
      "* **Ari Atoll:** Known for its luxurious resorts and vibrant coral reefs, perfect for snorkeling and diving.\n",
      "* **Baa Atoll:** A UNESCO Biosphere Reserve, home to diverse marine life and whale sharks. \n",
      "\n",
      "For a five-day trip, you could easily explore two of these destinations. \n",
      "\n",
      "Expect to spend around $150-$250 per day for meals, activities, and transportation. \n",
      "\n",
      "Popular hotels in the Maldives include:\n",
      "\n",
      "* **Overwater bungalows:** Luxurious options with direct access to the lagoon.\n",
      "* **Boutique resorts:** Offer a more intimate and personalized experience.\n",
      "* **Family-friendly resorts:** Feature water parks, kids' clubs, and other amenities.\n",
      "\n",
      "\n"
     ]
    }
   ],
   "source": [
    "for chunk in builder.stream(\n",
    "    {\"messages\": [{\"role\": \"user\", \"content\": \"I am Planning to Travel to Maldives i need the flights from chennai on the following week with price of tickets for a couple and i need the best places to visit with avergae budget for a couple and  best hotels with name to stay for five days not be accurate just general based on your knowlwdge?\"}]},\n",
    "):\n",
    "    print(\"****chunk****\")\n",
    "    \n",
    "    pretty_print_messages(chunk)\n"
   ]
  },
  {
   "cell_type": "code",
   "execution_count": null,
   "id": "eac46abb",
   "metadata": {},
   "outputs": [],
   "source": []
  },
  {
   "cell_type": "code",
   "execution_count": null,
   "id": "adcc5883",
   "metadata": {},
   "outputs": [],
   "source": []
  }
 ],
 "metadata": {
  "kernelspec": {
   "display_name": "langgraph-handson",
   "language": "python",
   "name": "python3"
  },
  "language_info": {
   "codemirror_mode": {
    "name": "ipython",
    "version": 3
   },
   "file_extension": ".py",
   "mimetype": "text/x-python",
   "name": "python",
   "nbconvert_exporter": "python",
   "pygments_lexer": "ipython3",
   "version": "3.11.1"
  }
 },
 "nbformat": 4,
 "nbformat_minor": 5
}
