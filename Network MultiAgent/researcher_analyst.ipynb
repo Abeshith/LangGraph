{
 "cells": [
  {
   "cell_type": "code",
   "execution_count": 9,
   "id": "e5795cae",
   "metadata": {},
   "outputs": [],
   "source": [
    "import os\n",
    "import glob\n",
    "from dotenv import load_dotenv\n",
    "\n",
    "load_dotenv()\n",
    "\n",
    "os.environ[\"GROQ_API_KEY\"] = os.getenv(\"GROQ_API_KEY\")\n",
    "os.environ[\"TOGETHER_API_KEY\"] = os.getenv(\"TOGETHER_API_KEY\")\n",
    "os.environ[\"MISTRAL_API_KEY\"] = os.getenv(\"MISTRAL_API_KEY\")\n",
    "os.environ[\"TAVILY_API_KEY\"] = os.getenv(\"TAVILY_API_KEY\")\n",
    "os.environ[\"HF_TOKEN\"] = os.getenv(\"HF_TOKEN\")"
   ]
  },
  {
   "cell_type": "code",
   "execution_count": 10,
   "id": "7fec6726",
   "metadata": {},
   "outputs": [],
   "source": [
    "from langchain_groq import ChatGroq\n",
    "llm = ChatGroq(model=\"gemma2-9b-it\")"
   ]
  },
  {
   "cell_type": "code",
   "execution_count": 21,
   "id": "07a29a6b",
   "metadata": {},
   "outputs": [
    {
     "name": "stderr",
     "output_type": "stream",
     "text": [
      "d:\\LangGraph\\langgraph-handson\\Lib\\site-packages\\langchain_community\\utilities\\duckduckgo_search.py:63: RuntimeWarning: This package (`duckduckgo_search`) has been renamed to `ddgs`! Use `pip install ddgs` instead.\n",
      "  with DDGS() as ddgs:\n"
     ]
    },
    {
     "data": {
      "text/plain": [
       "\"Jul 15, 2025 · Learn & Understand all information about England including India tour of England 2025 Squad, Player Details & More at ESPNcricinfo. 1 day ago · India and England will clash once again in the fourth Test at Old Trafford, Manchester, starting on July 23 (Wednesday). England lead the series 2-1, following their 22-run win in the … Jul 10, 2025 · Here are the full details of the England vs India 4th Test Match 2025 Timing, Captain, Squad or Players List. When is ENG vs IND, 4th Test? ENG vs IND, 4th Test to be … 1 day ago · After India's heartbreaking loss at the Home of Cricket, Lord's, the Anderson-Tendulkar trophy now moves on to the Old Trafford Stadium in Manchester for the 4th Test of … 19 hours ago · India vs England 4th Test, India playing 11 vs England, India vs England team news, Arshdeep Singh injury update, Nitish Reddy news, India vs England 4th Test squad, …\""
      ]
     },
     "execution_count": 21,
     "metadata": {},
     "output_type": "execute_result"
    }
   ],
   "source": [
    "from langchain_community.tools import DuckDuckGoSearchRun\n",
    "web_search = DuckDuckGoSearchRun()\n",
    "web_search.run(\"Who are the 11 players represent team india in england test series of 4th match?\")"
   ]
  },
  {
   "cell_type": "code",
   "execution_count": 22,
   "id": "3e497f66",
   "metadata": {},
   "outputs": [
    {
     "data": {
      "text/plain": [
       "'The sum of 10 and 20 is 30\\n'"
      ]
     },
     "execution_count": 22,
     "metadata": {},
     "output_type": "execute_result"
    }
   ],
   "source": [
    "from langchain_experimental.utilities import PythonREPL\n",
    "repl = PythonREPL()\n",
    "\n",
    "code=\"\"\"\n",
    "x = 10\n",
    "y = 20\n",
    "print(f\"The sum of {x} and {y} is {x + y}\")\n",
    "\"\"\"\n",
    "repl.run(code)"
   ]
  },
  {
   "cell_type": "code",
   "execution_count": 23,
   "id": "9d2c94e6",
   "metadata": {},
   "outputs": [],
   "source": [
    "from langchain_core.tools import tool\n",
    "from typing import Annotated, Literal\n",
    "\n",
    "@tool\n",
    "def python_repl_tool(code: Annotated[str, \"The python code to execute to generate chart\"]):\n",
    "    \"\"\"Run Python code and return the output.\"\"\"\n",
    "\n",
    "    try:\n",
    "        result = repl.run(code)\n",
    "    except Exception as e:\n",
    "        return f\"Error executing code: {e}\"\n",
    "    \n",
    "    result_str = f\"Sucessfully executed code: Output:{result}\"\n",
    "\n",
    "    return (\n",
    "        result_str + \"\\n\\nIf you have completed all tasks, respond with FINAL ANSWER.\"\n",
    "    )"
   ]
  },
  {
   "cell_type": "code",
   "execution_count": 24,
   "id": "ec0225a5",
   "metadata": {},
   "outputs": [
    {
     "data": {
      "text/plain": [
       "\"You are a helpful AI assistant, collaborating with other assistants. Use the provided tools to progress towards answering the question. If you are unable to fully answer, that's OK, another assistant with different tools  will help where you left off. Execute what you can to make progress. If you or any of the other assistants have the final answer or deliverable, prefix your response with FINAL ANSWER so the team knows to stop.\\nYou can only do research. You are working with a chart generator colleague.\""
      ]
     },
     "execution_count": 24,
     "metadata": {},
     "output_type": "execute_result"
    }
   ],
   "source": [
    "def make_system_prompt(instruction:str)->str:\n",
    "    return  (\n",
    "        \"You are a helpful AI assistant, collaborating with other assistants.\"\n",
    "        \" Use the provided tools to progress towards answering the question.\"\n",
    "        \" If you are unable to fully answer, that's OK, another assistant with different tools \"\n",
    "        \" will help where you left off. Execute what you can to make progress.\"\n",
    "        \" If you or any of the other assistants have the final answer or deliverable,\"\n",
    "        \" prefix your response with FINAL ANSWER so the team knows to stop.\"\n",
    "        f\"\\n{instruction}\"\n",
    "    )\n",
    "\n",
    "make_system_prompt(\"You can only do research. You are working with a chart generator colleague.\")"
   ]
  },
  {
   "cell_type": "code",
   "execution_count": 25,
   "id": "e971a530",
   "metadata": {},
   "outputs": [],
   "source": [
    "from langchain_core.messages import BaseMessage, HumanMessage\n",
    "from langgraph.graph import MessagesState, StateGraph,START,END\n",
    "\n",
    "def get_next_node(last_message:BaseMessage, goto:str):\n",
    "    if \"FINAL ANSWER\" in last_message.content:\n",
    "        # Any agent decided the work is done\n",
    "        return END\n",
    "    return goto\n"
   ]
  },
  {
   "cell_type": "code",
   "execution_count": 26,
   "id": "93892590",
   "metadata": {},
   "outputs": [],
   "source": [
    "from langgraph.prebuilt import create_react_agent\n",
    "research_agent = create_react_agent(\n",
    "    llm,\n",
    "    tools=[web_search, python_repl_tool],\n",
    "    prompt=make_system_prompt(\n",
    "        \"You can only do research. You are working with a chart generator colleague.\"\n",
    "    ),\n",
    ")\n",
    "\n",
    "chart_agent = create_react_agent(\n",
    "    llm,\n",
    "    [python_repl_tool],\n",
    "    prompt=make_system_prompt(\n",
    "        \"You can only generate charts. You are working with a researcher colleague.\"\n",
    "    ),\n",
    ")\n"
   ]
  },
  {
   "cell_type": "code",
   "execution_count": 27,
   "id": "981c4095",
   "metadata": {},
   "outputs": [],
   "source": [
    "from langgraph.types import Command\n",
    "\n",
    "def research_node(state:MessagesState)->Command[Literal[\"chart_generator\", END]]:\n",
    "    \n",
    "    result = research_agent.invoke(state)\n",
    "    \n",
    "    goto = get_next_node(result[\"messages\"][-1], \"chart_generator\")\n",
    "    \n",
    "    result[\"messages\"][-1] = HumanMessage(content=result[\"messages\"][-1].content, name=\"researcher\")\n",
    "    \n",
    "    return Command(update={\"messages\": result[\"messages\"]},goto=goto)\n",
    "\n",
    "\n",
    "def chart_node(state:MessagesState)-> Command[Literal[\"researcher\", END]]:\n",
    "    \n",
    "    result = chart_agent.invoke(state)\n",
    "    \n",
    "    goto = get_next_node(result[\"messages\"][-1], \"researcher\")\n",
    "    \n",
    "    result[\"messages\"][-1] = HumanMessage(content=result[\"messages\"][-1].content, name=\"chart_generator\")\n",
    "    \n",
    "    return Command(update={\"messages\": result[\"messages\"]},goto=goto)"
   ]
  },
  {
   "cell_type": "code",
   "execution_count": 28,
   "id": "2f06fe94",
   "metadata": {},
   "outputs": [],
   "source": [
    "from langgraph.graph import StateGraph, START\n",
    "\n",
    "workflow = StateGraph(MessagesState)\n",
    "workflow.add_node(\"researcher\", research_node)\n",
    "workflow.add_node(\"chart_generator\", chart_node)\n",
    "\n",
    "workflow.add_edge(START, \"researcher\")\n",
    "graph = workflow.compile()\n"
   ]
  },
  {
   "cell_type": "code",
   "execution_count": 29,
   "id": "541e83a3",
   "metadata": {},
   "outputs": [
    {
     "name": "stderr",
     "output_type": "stream",
     "text": [
      "d:\\LangGraph\\langgraph-handson\\Lib\\site-packages\\langchain_community\\utilities\\duckduckgo_search.py:63: RuntimeWarning: This package (`duckduckgo_search`) has been renamed to `ddgs`! Use `pip install ddgs` instead.\n",
      "  with DDGS() as ddgs:\n",
      "Task researcher with path ('__pregel_pull', 'researcher') wrote to unknown channel branch:to:__end__, ignoring it.\n"
     ]
    },
    {
     "data": {
      "text/plain": [
       "{'messages': [HumanMessage(content=\"get the UK's GDP over the past 3 years, then make a line chart of it.Once you make the chart, finish.\", additional_kwargs={}, response_metadata={}, id='57c1c781-86b3-4802-97cb-c604dbe82b81'),\n",
       "  AIMessage(content='', additional_kwargs={'tool_calls': [{'id': '86p23rz7g', 'function': {'arguments': '{\"query\":\"UK GDP over the past 3 years\"}', 'name': 'duckduckgo_search'}, 'type': 'function'}]}, response_metadata={'token_usage': {'completion_tokens': 89, 'prompt_tokens': 1225, 'total_tokens': 1314, 'completion_time': 0.161818182, 'prompt_time': 0.023355891, 'queue_time': 0.258807022, 'total_time': 0.185174073}, 'model_name': 'gemma2-9b-it', 'system_fingerprint': 'fp_10c08bf97d', 'finish_reason': 'tool_calls', 'logprobs': None}, id='run--591afc74-a5db-48d3-b70c-b77f9879e49c-0', tool_calls=[{'name': 'duckduckgo_search', 'args': {'query': 'UK GDP over the past 3 years'}, 'id': '86p23rz7g', 'type': 'tool_call'}], usage_metadata={'input_tokens': 1225, 'output_tokens': 89, 'total_tokens': 1314}),\n",
       "  ToolMessage(content=\"Oct 31, 2024 · The economy temporarily contracted in the second half of 2023, leaving GDP in Quarter 4 (Oct to Dec) 0.3% lower, compared with its level a year ago. This slowdown was … Apr 25, 2025 · Although the UK is currently the world's sixth-largest economy, behind the United States, China, Japan, Germany, and India, its share of the global economy, has been steadily … 6 days ago · Find the latest GDP data for the UK and updated forecasts for GDP growth. Economic indicators are quick-read summaries of the latest data focusing on different aspects … Mar 31, 2025 · The latest comprehensive information for - United Kingdom GDP Growth Rate - including latest news, historical data table, charts and more. Jul 14, 2025 · Graph and download economic data for Real Gross Domestic Product for Great Britain (NGDPRSAXDCGBQ) from Q1 1955 to Q1 2025 about United Kingdom, real, and GDP.\", name='duckduckgo_search', id='ac5ab41c-8a82-4e4d-8d2a-1a59837d305c', tool_call_id='86p23rz7g'),\n",
       "  AIMessage(content='', additional_kwargs={'tool_calls': [{'id': 'fcqw7s27w', 'function': {'arguments': '{\"code\":\"import matplotlib.pyplot as plt\\\\nimport numpy as np\\\\n\\\\n# Example data (replace with actual UK GDP data) \\\\nyears = [2022, 2023, 2024]\\\\nGDP = [1234, 1357, 1490]\\\\n\\\\nplt.plot(years, GDP)\\\\nplt.xlabel(\\'Year\\')\\\\nplt.ylabel(\\'GDP\\')\\\\nplt.title(\\'UK GDP Over the Past 3 Years\\')\\\\nplt.show() \"}', 'name': 'python_repl_tool'}, 'type': 'function'}]}, response_metadata={'token_usage': {'completion_tokens': 168, 'prompt_tokens': 1544, 'total_tokens': 1712, 'completion_time': 0.305454545, 'prompt_time': 0.033432023, 'queue_time': 0.259992747, 'total_time': 0.338886568}, 'model_name': 'gemma2-9b-it', 'system_fingerprint': 'fp_10c08bf97d', 'finish_reason': 'tool_calls', 'logprobs': None}, id='run--6d13c830-5b0b-422d-9b4c-776f9c2c41c8-0', tool_calls=[{'name': 'python_repl_tool', 'args': {'code': \"import matplotlib.pyplot as plt\\nimport numpy as np\\n\\n# Example data (replace with actual UK GDP data) \\nyears = [2022, 2023, 2024]\\nGDP = [1234, 1357, 1490]\\n\\nplt.plot(years, GDP)\\nplt.xlabel('Year')\\nplt.ylabel('GDP')\\nplt.title('UK GDP Over the Past 3 Years')\\nplt.show() \"}, 'id': 'fcqw7s27w', 'type': 'tool_call'}], usage_metadata={'input_tokens': 1544, 'output_tokens': 168, 'total_tokens': 1712}),\n",
       "  ToolMessage(content='Sucessfully executed code: Output:ModuleNotFoundError(\"No module named \\'matplotlib\\'\")\\n\\nIf you have completed all tasks, respond with FINAL ANSWER.', name='python_repl_tool', id='d28dfc52-b0bf-47bd-8606-74c90dd6c055', tool_call_id='fcqw7s27w'),\n",
       "  HumanMessage(content='FINAL ANSWER \\n\\n\\n\\n', additional_kwargs={}, response_metadata={}, name='researcher', id='3e2e195f-01cf-4eb3-8608-3af39962bbcf')]}"
      ]
     },
     "execution_count": 29,
     "metadata": {},
     "output_type": "execute_result"
    }
   ],
   "source": [
    "graph.invoke({\"messages\": [(\"user\",\"get the UK's GDP over the past 3 years, then make a line chart of it.Once you make the chart, finish.\")],})"
   ]
  },
  {
   "cell_type": "code",
   "execution_count": null,
   "id": "ed2c0ae7",
   "metadata": {},
   "outputs": [],
   "source": []
  }
 ],
 "metadata": {
  "kernelspec": {
   "display_name": "langgraph-handson",
   "language": "python",
   "name": "python3"
  },
  "language_info": {
   "codemirror_mode": {
    "name": "ipython",
    "version": 3
   },
   "file_extension": ".py",
   "mimetype": "text/x-python",
   "name": "python",
   "nbconvert_exporter": "python",
   "pygments_lexer": "ipython3",
   "version": "3.11.1"
  }
 },
 "nbformat": 4,
 "nbformat_minor": 5
}
