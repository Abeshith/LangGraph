{
 "cells": [
  {
   "cell_type": "code",
   "execution_count": 10,
   "id": "36b76ae9",
   "metadata": {},
   "outputs": [],
   "source": [
    "import os\n",
    "from dotenv import load_dotenv\n",
    "\n",
    "load_dotenv()\n",
    "\n",
    "os.environ[\"GROQ_API_KEY\"] = os.getenv(\"GROQ_API_KEY\")\n",
    "os.environ[\"TAVILY_API_KEY\"] = os.getenv(\"TAVILY_API_KEY\")"
   ]
  },
  {
   "cell_type": "code",
   "execution_count": 2,
   "id": "9c2174d1",
   "metadata": {},
   "outputs": [],
   "source": [
    "from langchain.tools import ArxivQueryRun, WikipediaQueryRun\n",
    "from langchain_community.utilities import WikipediaAPIWrapper, ArxivAPIWrapper"
   ]
  },
  {
   "cell_type": "code",
   "execution_count": 3,
   "id": "c4221776",
   "metadata": {},
   "outputs": [
    {
     "name": "stdout",
     "output_type": "stream",
     "text": [
      "Published: 2024-07-22\n",
      "Title: Attention Is All You Need But You Don't Need All Of It For Inference of Large Language Models\n",
      "Authors: Georgy Tyukin, Gbetondji J-S Dovonon, Jean Kaddour, Pasquale Minervini\n",
      "Summary: The inference demand for LLMs has skyrocketed in recent months, and serving\n",
      "models with low latencies remains challenging due to the quadratic input length\n",
      "complexity of the attention layers. In this work, we investigate the effect of\n",
      "dropping MLP and attention layers at inference time o\n"
     ]
    }
   ],
   "source": [
    "arxiv_api_wrapper = ArxivAPIWrapper(\n",
    "    top_k_results=2, \n",
    "    doc_content_chars_max=500\n",
    ")\n",
    "\n",
    "arxiv = ArxivQueryRun(\n",
    "    api_wrapper= arxiv_api_wrapper,\n",
    "    description = \"Query Arxiv Research Papers\"\n",
    ")\n",
    "\n",
    "print(arxiv.invoke(\"Attention is all you need\"))"
   ]
  },
  {
   "cell_type": "code",
   "execution_count": null,
   "id": "cb45d052",
   "metadata": {},
   "outputs": [],
   "source": [
    "wiki_api_wrapper = WikipediaAPIWrapper(\n",
    "    top_k_results=1, \n",
    "    doc_content_chars_max=500\n",
    ")\n",
    "\n",
    "wiki = WikipediaQueryRun(\n",
    "    api_wrapper = wiki_api_wrapper,\n",
    "    description = \"Query WikiPedia Information\"\n",
    ")\n",
    "\n",
    "print(wiki.invoke(\"One piece\"))"
   ]
  },
  {
   "cell_type": "code",
   "execution_count": 5,
   "id": "93667060",
   "metadata": {},
   "outputs": [
    {
     "data": {
      "text/plain": [
       "[{'url': 'https://www.reddit.com/r/Cricket/comments/1lt63os/shubman_gill_wins_player_of_the_match_in_india_vs/',\n",
       "  'title': 'Shubman Gill wins player of the match in India vs England 2nd Test',\n",
       "  'content': \"And he played 91.1 overs on his own. More than one full day's test cricket!!\",\n",
       "  'score': 0.69573146,\n",
       "  'raw_content': None},\n",
       " {'url': 'https://www.theguardian.com/sport/live/2025/jul/05/england-v-india-second-cricket-test-day-four-live-score-updates',\n",
       "  'title': \"England v India: second men's cricket Test, day four – as it happened\",\n",
       "  'content': '**8th over: England 47-2 (Pope 15, Root 6)**India are straining desperately for wickets, which means the occasional bad ball. **64th over: India 299-4 (Gill 98, Jadeja 22)**“Given, as you say, the old ball’s done nowt this Test, surely the plan is to declare with 15 overs or so to bowl this evening?” says Nick Wilsher. *   Image 13   ### England v India: second men’s cricket Test, day four – as it happened 2h ago        *   Image 14   ### Crawley, Duckett and Root fall cheaply after India set England colossal 608 2h ago        *   Image 17   ### England v India: third women’s T20 cricket international – as it happened 23h ago       ',\n",
       "  'score': 0.5135471,\n",
       "  'raw_content': None}]"
      ]
     },
     "execution_count": 5,
     "metadata": {},
     "output_type": "execute_result"
    }
   ],
   "source": [
    "from langchain_tavily import TavilySearch\n",
    "\n",
    "tavily = TavilySearch()\n",
    "tavily.invoke(\"What is the score of Shubman Gill in the 2nd test Match of England vs India? Where the Match Held?\")['results']"
   ]
  },
  {
   "cell_type": "code",
   "execution_count": 6,
   "id": "6b95d08e",
   "metadata": {},
   "outputs": [],
   "source": [
    "### Combine All the Tools in List \n",
    "tools = [arxiv, wiki, tavily]"
   ]
  },
  {
   "cell_type": "code",
   "execution_count": 7,
   "id": "1a56e107",
   "metadata": {},
   "outputs": [
    {
     "name": "stdout",
     "output_type": "stream",
     "text": [
      "content='<think>\\nOkay, the user asked, \"What is AI?\" I need to give a comprehensive yet easy-to-understand explanation. Let me start by breaking down the term. AI stands for Artificial Intelligence. So, the first thing is to define it clearly. \\n\\nI should mention that AI refers to machines or systems that can perform tasks requiring human-like intelligence. But I need to be careful not to oversimplify. Maybe include examples like problem-solving, learning, reasoning, and perception. Wait, the user might be familiar with AI concepts from movies or tech news, so using real-world applications would help ground the explanation.\\n\\nI should explain the different types of AI, maybe mention narrow AI versus general AI. Narrow AI is what\\'s in use today, like Siri or recommendation systems. General AI is more hypothetical. The user might not know the distinction, so clarifying that could be useful.\\n\\nAlso, the history is important. When did AI start? Turing\\'s work in the 1940s, the Dartmouth Conference in 1956. But maybe that\\'s too much detail for a basic question. Maybe just a brief mention of its origins.\\n\\nTechnologies involved: machine learning, deep learning, natural language processing. These are subsets of AI. The user might not differentiate between them, so a simple explanation of each could help. For example, machine learning is about algorithms learning from data, deep learning uses neural networks with many layers.\\n\\nApplications are a good way to illustrate AI\\'s impact. Healthcare for diagnostics, finance for fraud detection, autonomous vehicles. Users might relate to examples they encounter daily, like voice assistants or recommendation algorithms on streaming platforms.\\n\\nChallenges and ethical considerations are important too. Bias in AI, job displacement, privacy issues. Even though the question is \"What is AI?\", addressing these aspects gives a balanced view.\\n\\nI need to check if the user is a student, professional, or someone with general curiosity. Since the query is straightforward, keeping it concise but informative is key. Avoid jargon where possible, but some terms are necessary. Define them if used.\\n\\nWait, the user might also be interested in how AI works. Maybe a brief mention of algorithms and data processing. But again, keep it simple. Don\\'t delve into too much technical detail unless asked.\\n\\nIn summary, the answer should cover:\\n1. Definition of AI.\\n2. Types of AI (narrow vs. general).\\n3. Key technologies and techniques.\\n4. Applications.\\n5. Challenges and ethics.\\n6. Brief history or context.\\n\\nMake sure the flow is logical, starting from definition to specifics, then real-world examples, and ending with considerations. Avoid being too verbose. Use clear examples to illustrate each point. Check for clarity and correctness, ensuring that no misconceptions are spread. For instance, clarify that current AI is narrow and not sentient or self-aware, which is a common misconception.\\n</think>\\n\\nArtificial Intelligence (AI) refers to systems or machines designed to perform tasks that typically require human-like intelligence. These tasks include **learning, reasoning, problem-solving, perception, language understanding, and decision-making**. AI aims to replicate cognitive functions associated with the human mind, though it operates through algorithms and data rather than biological processes.\\n\\n### Key Concepts:\\n1. **Types of AI**:\\n   - **Narrow AI (Weak AI)**: Specialized for specific tasks (e.g., voice assistants like Siri, recommendation systems on Netflix, or chess-playing algorithms). Most AI in use today falls into this category.\\n   - **General AI (Strong AI)**: A hypothetical form of AI capable of understanding, learning, and applying knowledge across any task at a human level. No system achieves this yet.\\n\\n2. **Core Technologies**:\\n   - **Machine Learning (ML)**: Algorithms that improve at tasks by learning from data (e.g., spam detection, image recognition).\\n   - **Deep Learning**: A subset of ML using neural networks with multiple layers to analyze complex patterns (e.g., facial recognition, language translation).\\n   - **Natural Language Processing (NLP)**: Enables machines to understand and generate human language (e.g., chatbots, translation tools).\\n\\n3. **Applications**:\\n   - **Healthcare**: Diagnosing diseases, drug discovery.\\n   - **Finance**: Fraud detection, algorithmic trading.\\n   - **Transportation**: Autonomous vehicles, traffic optimization.\\n   - **Daily Life**: Voice assistants, personalized recommendations.\\n\\n4. **Challenges & Ethics**:\\n   - **Bias**: AI can inherit biases from training data.\\n   - **Job Displacement**: Automation may disrupt certain industries.\\n   - **Privacy**: Concerns over data collection and surveillance.\\n   - **Accountability**: Determining responsibility for AI decisions.\\n\\n5. **History**:\\n   - The term \"AI\" was coined in 1956 at the Dartmouth Conference. Early milestones include Alan Turing’s 1940s work on machine intelligence and the development of expert systems in the 1980s. Recent advances in computing power and data availability have accelerated progress.\\n\\n### Limitations:\\n- Current AI systems lack **common sense**, **empathy**, and **generalization** beyond their training data. They do not possess consciousness or self-awareness.\\n\\nIn essence, AI is a transformative tool that enhances efficiency and innovation but requires careful design and ethical oversight to maximize benefits and minimize risks.' additional_kwargs={} response_metadata={'token_usage': {'completion_tokens': 1095, 'prompt_tokens': 12, 'total_tokens': 1107, 'completion_time': 2.266751153, 'prompt_time': 0.000439212, 'queue_time': 0.055051718, 'total_time': 2.267190365}, 'model_name': 'qwen/qwen3-32b', 'system_fingerprint': 'fp_8487b76fd3', 'finish_reason': 'stop', 'logprobs': None} id='run--b13f212f-c8e2-4db1-8125-8619ce272737-0' usage_metadata={'input_tokens': 12, 'output_tokens': 1095, 'total_tokens': 1107}\n"
     ]
    }
   ],
   "source": [
    "### Initialize The LLM\n",
    "from langchain_groq import ChatGroq\n",
    "\n",
    "llm = ChatGroq(model = \"qwen/qwen3-32b\")\n",
    "print(llm.invoke(\"What is AI?\"))"
   ]
  },
  {
   "cell_type": "code",
   "execution_count": 8,
   "id": "ec340fc3",
   "metadata": {},
   "outputs": [
    {
     "data": {
      "text/plain": [
       "AIMessage(content='', additional_kwargs={'reasoning_content': 'Okay, the user is asking for recent news on AI. Let me see which tool I should use here. The available tools are arxiv, wikipedia, and tavily_search. Arxiv is for academic papers, and wikipedia might not have the latest news. Tavily_search seems like the best option for current news.\\n\\nLooking at the parameters for tavily_search, I need to set the query to \"recent news on AI\". The user wants recent information, so I should check the time_range parameter. The options are day, week, month, or year. Since they asked for \"recent\", maybe the week or month. But \"recent\" can be a bit vague. Let\\'s go with \"week\" to get the latest updates. \\n\\nThe topic parameter should be \"news\" because they\\'re asking for news. Wait, the topic options are general, news, or finance. The instructions say to use \"news\" only for politics, sports, or major current events. AI news could be considered general or news. Hmm. If it\\'s general news, maybe \"general\" is better. But the user specifically said \"news\", so maybe set topic to \"news\". Wait, the note says to use \"news\" only for mainstream media-covered events. AI news might be covered in general news, so maybe \"general\" is safer. \\n\\nAlso, include_images might be good here if they want to see any visuals from the articles. But the default is false, and the user didn\\'t specify images, so maybe leave it as default. Exclude_domains and include_domains aren\\'t mentioned, so leave them as default. Search_depth: since it\\'s recent news, maybe \"basic\" search is enough, but \"advanced\" could provide more comprehensive results. The user might want in-depth info, so set search_depth to \"advanced\".\\n\\nPutting it all together: query is \"recent news on AI\", time_range is \"week\", topic is \"news\", search_depth is \"advanced\". Let me double-check the parameters. The required parameter is query, others are optional. Yeah, that should work. I\\'ll call tavily_search with these arguments.\\n', 'tool_calls': [{'id': 'g78svx5tn', 'function': {'arguments': '{\"query\":\"recent news on AI\",\"search_depth\":\"advanced\",\"time_range\":\"week\",\"topic\":\"news\"}', 'name': 'tavily_search'}, 'type': 'function'}]}, response_metadata={'token_usage': {'completion_tokens': 483, 'prompt_tokens': 1215, 'total_tokens': 1698, 'completion_time': 0.991337136, 'prompt_time': 0.060031913, 'queue_time': 0.055548646, 'total_time': 1.051369049}, 'model_name': 'qwen/qwen3-32b', 'system_fingerprint': 'fp_8487b76fd3', 'finish_reason': 'tool_calls', 'logprobs': None}, id='run--582f1511-0e41-41b1-976e-18c66c9130a4-0', tool_calls=[{'name': 'tavily_search', 'args': {'query': 'recent news on AI', 'search_depth': 'advanced', 'time_range': 'week', 'topic': 'news'}, 'id': 'g78svx5tn', 'type': 'tool_call'}], usage_metadata={'input_tokens': 1215, 'output_tokens': 483, 'total_tokens': 1698})"
      ]
     },
     "execution_count": 8,
     "metadata": {},
     "output_type": "execute_result"
    }
   ],
   "source": [
    "### Bind the Tools With LLM\n",
    "\n",
    "llm_with_tool = llm.bind_tools(tools= tools)\n",
    "\n",
    "llm_with_tool.invoke(\"What is recent news on AI?\")"
   ]
  },
  {
   "cell_type": "code",
   "execution_count": 9,
   "id": "155fab77",
   "metadata": {},
   "outputs": [
    {
     "data": {
      "text/plain": [
       "AIMessage(content='', additional_kwargs={'reasoning_content': 'Okay, the user is asking, \"what is Machine Learning?\" I need to figure out which tool to use here. Let\\'s see, the available tools are arxiv, wikipedia, and tavily_search.\\n\\nFirst, Machine Learning is a general concept, so maybe Wikipedia has a good overview. The arxiv is more for research papers, which might be too detailed for a basic definition. Tavily_search is a general search tool, but since the user is asking for a definition, Wikipedia might be more straightforward.\\n\\nLet me check the parameters for the wikipedia function. It requires a query. The query here would be \"Machine Learning\". So I should call the wikipedia function with that query. The other tools might not be necessary here. I don\\'t need to exclude or include specific domains, so tavily_search isn\\'t needed. Arxiv is for academic papers, which isn\\'t necessary for a basic explanation. So the best choice is Wikipedia.\\n', 'tool_calls': [{'id': 'y8shgpczf', 'function': {'arguments': '{\"query\":\"Machine Learning\"}', 'name': 'wikipedia'}, 'type': 'function'}]}, response_metadata={'token_usage': {'completion_tokens': 215, 'prompt_tokens': 1213, 'total_tokens': 1428, 'completion_time': 0.374241439, 'prompt_time': 0.051896609, 'queue_time': 0.05623586099999999, 'total_time': 0.426138048}, 'model_name': 'qwen/qwen3-32b', 'system_fingerprint': 'fp_f17c2eb555', 'finish_reason': 'tool_calls', 'logprobs': None}, id='run--e6c2f5ab-bef7-42c1-bab6-8cf270600206-0', tool_calls=[{'name': 'wikipedia', 'args': {'query': 'Machine Learning'}, 'id': 'y8shgpczf', 'type': 'tool_call'}], usage_metadata={'input_tokens': 1213, 'output_tokens': 215, 'total_tokens': 1428})"
      ]
     },
     "execution_count": 9,
     "metadata": {},
     "output_type": "execute_result"
    }
   ],
   "source": [
    "llm_with_tool.invoke(\"what is Machine Learning?\")"
   ]
  },
  {
   "cell_type": "code",
   "execution_count": 9,
   "id": "99f83f86",
   "metadata": {},
   "outputs": [
    {
     "data": {
      "text/plain": [
       "AIMessage(content='', additional_kwargs={'reasoning_content': 'Okay, the user is asking for the latest research on AI. Let me figure out which tool to use. The available tools are arxiv, wikipedia, and tavily_search.\\n\\nArxiv is great for academic papers, which would be useful for the latest research. Wikipedia might not be as up-to-date with cutting-edge research. Tavily_search is a general search tool, but the user specifically wants research, so arxiv seems better.\\n\\nI need to check if arxiv\\'s parameters fit. The function requires a \"query\" parameter. The user\\'s query is \"latest research on AI,\" so I can use that as the query. No need to exclude domains or set other parameters since it\\'s a straightforward academic search.\\n\\nSo, the tool call should be to arxiv with the query \"latest research on AI\".\\n', 'tool_calls': [{'id': 'aftdcexyp', 'function': {'arguments': '{\"query\":\"latest research on AI\"}', 'name': 'arxiv'}, 'type': 'function'}]}, response_metadata={'token_usage': {'completion_tokens': 192, 'prompt_tokens': 1216, 'total_tokens': 1408, 'completion_time': 0.350703601, 'prompt_time': 0.052463071, 'queue_time': 0.055988139000000006, 'total_time': 0.403166672}, 'model_name': 'qwen/qwen3-32b', 'system_fingerprint': 'fp_f17c2eb555', 'finish_reason': 'tool_calls', 'logprobs': None}, id='run--e9835c04-6826-4a79-8ebd-03b6e8eeff1e-0', tool_calls=[{'name': 'arxiv', 'args': {'query': 'latest research on AI'}, 'id': 'aftdcexyp', 'type': 'tool_call'}], usage_metadata={'input_tokens': 1216, 'output_tokens': 192, 'total_tokens': 1408})"
      ]
     },
     "execution_count": 9,
     "metadata": {},
     "output_type": "execute_result"
    }
   ],
   "source": [
    "llm_with_tool.invoke(\"What is the latest research on AI?\")"
   ]
  },
  {
   "cell_type": "code",
   "execution_count": 10,
   "id": "e8bae59d",
   "metadata": {},
   "outputs": [
    {
     "data": {
      "text/plain": [
       "AIMessage(content='', additional_kwargs={'reasoning_content': 'Okay, the user is asking for a general overview of \"One Piece.\" Let me think about how to approach this. First, I need to determine which tool to use. The available tools are arxiv, wikipedia, and tavily_search. Since \"One Piece\" is a popular manga and anime, Wikipedia would be the best source for a general overview. The other tools are for academic papers (arxiv) or web searches (tavily_search), which might not be necessary here. The user didn\\'t specify any domains to exclude or include, so I can use the default settings. I\\'ll call the wikipedia function with the query \"One Piece\" to get the information.\\n', 'tool_calls': [{'id': 'qjq3kamy5', 'function': {'arguments': '{\"query\":\"One Piece\"}', 'name': 'wikipedia'}, 'type': 'function'}]}, response_metadata={'token_usage': {'completion_tokens': 162, 'prompt_tokens': 1218, 'total_tokens': 1380, 'completion_time': 0.278536938, 'prompt_time': 0.079675596, 'queue_time': 0.054924654, 'total_time': 0.358212534}, 'model_name': 'qwen/qwen3-32b', 'system_fingerprint': 'fp_8487b76fd3', 'finish_reason': 'tool_calls', 'logprobs': None}, id='run--2ded984a-16bb-48cd-b526-4c780b55c9c0-0', tool_calls=[{'name': 'wikipedia', 'args': {'query': 'One Piece'}, 'id': 'qjq3kamy5', 'type': 'tool_call'}], usage_metadata={'input_tokens': 1218, 'output_tokens': 162, 'total_tokens': 1380})"
      ]
     },
     "execution_count": 10,
     "metadata": {},
     "output_type": "execute_result"
    }
   ],
   "source": [
    "llm_with_tool.invoke(\"Gimme General Overview about the One Piece?\")"
   ]
  },
  {
   "cell_type": "markdown",
   "id": "e162aeea",
   "metadata": {},
   "source": [
    "## WorkFlow Using LangGraph"
   ]
  },
  {
   "cell_type": "code",
   "execution_count": 11,
   "id": "66b796ee",
   "metadata": {},
   "outputs": [],
   "source": [
    "from typing_extensions import TypedDict ## For State\n",
    "from langchain_core.messages import AnyMessage  ## Either Human or An AI Message\n",
    "from typing import Annotated ## Labeling\n",
    "from langgraph.graph.message import add_messages  ## -> reducers in Langgraph"
   ]
  },
  {
   "cell_type": "code",
   "execution_count": 12,
   "id": "33d332d7",
   "metadata": {},
   "outputs": [],
   "source": [
    "class State(TypedDict):\n",
    "    messages: Annotated[list[AnyMessage] , add_messages]"
   ]
  },
  {
   "cell_type": "code",
   "execution_count": 13,
   "id": "9717c93a",
   "metadata": {},
   "outputs": [],
   "source": [
    "from langgraph.graph import StateGraph, START, END\n",
    "from langgraph.prebuilt import ToolNode, tools_condition\n",
    "from IPython.display import Image, display"
   ]
  },
  {
   "cell_type": "code",
   "execution_count": 14,
   "id": "967ae2f9",
   "metadata": {},
   "outputs": [
    {
     "data": {
      "text/plain": [
       "<langgraph.graph.state.StateGraph at 0x1fa2a323bd0>"
      ]
     },
     "execution_count": 14,
     "metadata": {},
     "output_type": "execute_result"
    }
   ],
   "source": [
    "## Define the Nodes\n",
    "def tool_calling_llm(state: State):\n",
    "    return {\"messages\": [llm_with_tool.invoke(state[\"messages\"])]}\n",
    "\n",
    "\n",
    "## Build the Graph\n",
    "graph = StateGraph(State)\n",
    "\n",
    "\n",
    "## Add Nodes to Graph\n",
    "graph.add_node(\"tool_calling_llm\", tool_calling_llm)\n",
    "graph.add_node(\"tools\", ToolNode(tools))  ## Adding the tools to ToolNode -> Passing all Tools the ToolNode\n",
    "\n",
    "\n",
    "## Add the Edges to the Grpah for Connecting the Nodes\n",
    "graph.add_edge(START, \"tool_calling_llm\")\n",
    "graph.add_conditional_edges(\n",
    "    \"tool_calling_llm\",\n",
    "\n",
    "    ## If the message from assistant is a tool call -> tools_condition routes to tools\n",
    "    ## If the message from assistant is a not tool call -> tools_condition routes to END\n",
    "\n",
    "    tools_condition,\n",
    ")\n",
    "graph.add_edge(\"tools\", END)"
   ]
  },
  {
   "cell_type": "code",
   "execution_count": 15,
   "id": "d4228eb2",
   "metadata": {},
   "outputs": [
    {
     "data": {
      "image/png": "[encoded data removed]",
      "text/plain": [
       "<IPython.core.display.Image object>"
      ]
     },
     "metadata": {},
     "output_type": "display_data"
    }
   ],
   "source": [
    "## Complie the grpah\n",
    "builder = graph.compile()\n",
    "\n",
    "## Display the WorkFlow of Graph\n",
    "display(Image(builder.get_graph().draw_mermaid_png()))"
   ]
  },
  {
   "cell_type": "code",
   "execution_count": 16,
   "id": "6253c9bd",
   "metadata": {},
   "outputs": [
    {
     "name": "stdout",
     "output_type": "stream",
     "text": [
      "================================\u001b[1m Human Message \u001b[0m=================================\n",
      "\n",
      "What is Machine Learning?\n",
      "==================================\u001b[1m Ai Message \u001b[0m==================================\n",
      "Tool Calls:\n",
      "  wikipedia (vc496769v)\n",
      " Call ID: vc496769v\n",
      "  Args:\n",
      "    query: Machine Learning\n",
      "=================================\u001b[1m Tool Message \u001b[0m=================================\n",
      "Name: wikipedia\n",
      "\n",
      "Page: Machine learning\n",
      "Summary: Machine learning (ML) is a field of study in artificial intelligence concerned with the development and study of statistical algorithms that can learn from data and generalise to unseen data, and thus perform tasks without explicit instructions. Within a subdiscipline in machine learning, advances in the field of deep learning have allowed neural networks, a class of statistical algorithms, to surpass many previous machine learning approaches in performance.\n",
      "ML fi\n"
     ]
    }
   ],
   "source": [
    "messages = builder.invoke({\"messages\" : \"What is Machine Learning?\"})\n",
    "\n",
    "for msg in messages['messages']:\n",
    "    msg.pretty_print()"
   ]
  },
  {
   "cell_type": "code",
   "execution_count": 16,
   "id": "a5b3d24e",
   "metadata": {},
   "outputs": [
    {
     "name": "stdout",
     "output_type": "stream",
     "text": [
      "================================\u001b[1m Human Message \u001b[0m=================================\n",
      "\n",
      "1706.03762\n",
      "==================================\u001b[1m Ai Message \u001b[0m==================================\n",
      "Tool Calls:\n",
      "  arxiv (sfpcchm9r)\n",
      " Call ID: sfpcchm9r\n",
      "  Args:\n",
      "    query: 1706.03762\n",
      "=================================\u001b[1m Tool Message \u001b[0m=================================\n",
      "Name: arxiv\n",
      "\n",
      "Published: 2023-08-02\n",
      "Title: Attention Is All You Need\n",
      "Authors: Ashish Vaswani, Noam Shazeer, Niki Parmar, Jakob Uszkoreit, Llion Jones, Aidan N. Gomez, Lukasz Kaiser, Illia Polosukhin\n",
      "Summary: The dominant sequence transduction models are based on complex recurrent or\n",
      "convolutional neural networks in an encoder-decoder configuration. The best\n",
      "performing models also connect the encoder and decoder through an attention\n",
      "mechanism. We propose a new simple network architecture, the Transformer, base\n"
     ]
    }
   ],
   "source": [
    "messages = builder.invoke({\"messages\" : \"1706.03762\"})\n",
    "\n",
    "for msg in messages['messages']:\n",
    "    msg.pretty_print()"
   ]
  },
  {
   "cell_type": "code",
   "execution_count": 17,
   "id": "c14c896c",
   "metadata": {},
   "outputs": [
    {
     "name": "stdout",
     "output_type": "stream",
     "text": [
      "================================\u001b[1m Human Message \u001b[0m=================================\n",
      "\n",
      "What is the Recent News Happend In TamilNadu ?\n",
      "==================================\u001b[1m Ai Message \u001b[0m==================================\n",
      "Tool Calls:\n",
      "  tavily_search (8ewts6hmf)\n",
      " Call ID: 8ewts6hmf\n",
      "  Args:\n",
      "    query: recent news in Tamil Nadu\n",
      "    time_range: week\n",
      "    topic: news\n",
      "=================================\u001b[1m Tool Message \u001b[0m=================================\n",
      "Name: tavily_search\n",
      "\n",
      "{\"query\": \"recent news in Tamil Nadu\", \"follow_up_questions\": null, \"answer\": null, \"images\": [], \"results\": [{\"url\": \"https://www.thehindu.com/news/national/tamil-nadu/expert-panel-engaged-by-vedanta-recommends-green-restart-of-sterlite-copper-plant-in-thoothukudi/article69771735.ece\", \"title\": \"Expert panel engaged by Vedanta recommends ‘green restart’ of Sterlite Copper plant in Thoothukudi - The Hindu\", \"score\": 0.6609831, \"published_date\": \"Fri, 04 Jul 2025 08:09:00 GMT\", \"content\": \"## The committee proposes the plant can resume operations under stricter environmental regulations and with a more sustainable approach to production A two-member expert committee, engaged in preparing a report for mining company Vedanta, has recommended a “green restart” of its Sterlite Copper smelter plant in Thoothukudi, Tamil Nadu. Nagendran, retired Professor of Environmental Engineering, Anna University, Chennai, and former expert member, National Green Tribunal (NGT), proposes the plant can resume operations under stricter environmental regulations and with a more sustainable approach to production. Key recommendations of the expert committee include the adoption of a hybrid production model, which would see 30% of the copper produced through recycling, significantly reducing slag generation by 15% and hazardous waste by 40%.\", \"raw_content\": null}, {\"url\": \"https://www.thehindu.com/news/cities/chennai/self-discipline-is-at-the-core-of-saidapet-government-schools-values/article69741908.ece\", \"title\": \"Self-discipline is at the core of Saidapet Government School’s values - The Hindu\", \"score\": 0.34800282, \"published_date\": \"Sat, 05 Jul 2025 11:30:00 GMT\", \"content\": \"Self-discipline is at the core of Saidapet Government School’s values - The Hindu  NEWSLETTER Image 5: newsletterimg First Day First Show News and reviews from the world of cinema and streaming.SEE ALL NEWSLETTERS NEWSLETTER Image 6: newsletterimg Today's Cache Your download of the top 5 technology stories of the day.SEE ALL NEWSLETTERS NEWSLETTER Image 10: newsletterimg The Hindu On Books Books of the week, reviews, excerpts, new titles and features.SEE ALL NEWSLETTERS Image 11: Saidapet Model Government School, in Chennai. Saidapet Model Government School, in Chennai. Today, there are 470 students, from kindergarten to class 12,” said Beulah, a Tamil teacher who has been working at the school for the past 25 years. Chennai / school / education Image 23: The Hindu\", \"raw_content\": null}, {\"url\": \"https://timesofindia.indiatimes.com/sports/nba/top-stories/dwyane-wades-wife-gabrielle-union-drops-5-word-self-motivation-message-alongside-a-series-of-candid-photos/articleshow/122186823.cms\", \"title\": \"Dwyane Wade’s wife Gabrielle Union drops 5-word self-motivation message alongside a series of candid phot - Times of India\", \"score\": 0.34654185, \"published_date\": \"Tue, 01 Jul 2025 15:09:00 GMT\", \"content\": \"No'In constructive custody': Mehul Choksi opposes ED’s fugitive tag; cites Belgium arrestIND vs ENG: 'I'd give Prasidh Krishna games': R Ashwin back struggling pacer for 2nd TestShort-term gain, long-term loss: Why replacing graduates with AI could backfire on businessesShefali Jariwala once spoke about fake rumours about her death after Kaanta Laga release: 'People said her brother killed her, she got cancer'Sharjah libraries’ 100-year celebration reveals rare second century Hijri tax records, art, and moreTop richest WWE superstars in 2025: John Cena, Roman Reigns, Liv Morgan, and more‘He has been humiliated by….’ claims Elon Musk’s former friend amidst renewed tensions with TrumpCloudflare launches ‘bot blocker’: What it means for AI companies like Google, OpenAI\\\"It’s fun”-WNBA star Cameron Brink reveals going fully n*ked for photoshoot was not a big deal for herHow did strawberries and cream become the 'true icon' of WimbledonRasika Dugal on her NYIFF experience: Films help the Indian community stay connected to their rootsThe Real Trump ShockerVikrant Massey tore his father’s insurance papers in hospital: 'I saw my mother standing in a queue...'Lee Seo Yi passes away at 43: All you need to know about the South Korean actressTamil Nadu custodial death: Sivagangai case handed over to CBI; CM Stalin cites transparency behind the moveMan left without paying at Sharjah Airport: What followed was unexpectedBreakthrough?\", \"raw_content\": null}, {\"url\": \"https://www.deccanchronicle.com/videos/the-hidden-dangers-of-self-medication-doctor-sounds-alarm-bells-1889526\", \"title\": \"The Hidden Dangers of Self-Medication: Doctor Sounds Alarm Bells - Deccan Chronicle\", \"score\": 0.306071, \"published_date\": \"Sat, 05 Jul 2025 07:33:26 GMT\", \"content\": \"Published Time: 2025-07-04T17:52:36+05:30 The Hidden Dangers of Self-Medication: Doctor Sounds Alarm Bells e-Paper Corporate Insolvency Resolution Process Image 2: Deccan Chronicle *   Home *   South *   Andhra Pradesh *   Telangana *   Tamil Nadu *   Karnataka *   Kerala *   Nation *   World *   Sports *   Cricket *   Football *   Tennis *   Entertainment *   Tollywood *   Bollywood *   Sandalwood *   Kollywood *   Mollywood *   Hollywood *   Movie Reviews *   Television *   Music *   Theatre *   OTT *   Videos *   Opinion and Editorials *   Hyderabad Chronicle *   Special Story *   Home *   Other News *   Videos *   Hyderabad Chronicle *   Special Story Home » Videos Videos Image 3: Deccan ChronicleDeccan Chronicle Image 4: Deccan Chronicle About the Author Deccan Chronicle ### Latest News Next Story\", \"raw_content\": null}, {\"url\": \"https://in.ign.com/dream-11-fantasy-gaming/235163/news/csg-vs-itt-check-our-fantasy-cricket-prediction-tips-playing-team-picks-for-tamil-nadu-premier-leagu\", \"title\": \"CSG vs ITT: Check our Fantasy Cricket Prediction, Tips, Playing Team Picks for Tamil Nadu Premier League 2025, Qualifier 1 on July 1st - IGN India\", \"score\": 0.19351324, \"published_date\": \"Mon, 30 Jun 2025 10:01:55 GMT\", \"content\": \"CSG vs ITT: Check our Dream 11 Prediction, Fantasy Cricket Tips, Playing Team Picks for Tamil Nadu Premier League 2025,Qualifier 1 on July 1st CSG vs ITT: Check our Fantasy Cricket Prediction, Tips, Playing Team Picks for Tamil Nadu Premier League 2025,Qualifier 1 on July 1st Image 4: CSG vs ITT: Check our Fantasy Cricket Prediction, Tips, Playing Team Picks for Tamil Nadu Premier League 2025, Qualifier 1 on July 1st - Dream 11 Fantasy Gaming Two of the best teams in the competition, Chepauk Super Gillies and IDream Tiruppur Tamizhans, will take on each other in the highly anticipated Qualifier 1 on Tuesday here at the NPR College Ground, Dindigul. **Chepauk Super Gillies****vs IDream Tiruppur Tamizhans,****Qualifier****1** ### What are the Fantasy Cricket Top Picks, Players for CSG vs ITT, Tamil Nadu Premier League 2025, Qualifier 1?\", \"raw_content\": null}], \"response_time\": 0.69}\n"
     ]
    }
   ],
   "source": [
    "messages = builder.invoke({\"messages\" : \"What is the Recent News Happend In TamilNadu?\"})\n",
    "\n",
    "for msg in messages['messages']:\n",
    "    msg.pretty_print()"
   ]
  },
  {
   "cell_type": "code",
   "execution_count": 18,
   "id": "ecca443a",
   "metadata": {},
   "outputs": [
    {
     "name": "stdout",
     "output_type": "stream",
     "text": [
      "================================\u001b[1m Human Message \u001b[0m=================================\n",
      "\n",
      "Give me a general Overview of One piece?\n",
      "==================================\u001b[1m Ai Message \u001b[0m==================================\n",
      "Tool Calls:\n",
      "  wikipedia (k8tbw2rxb)\n",
      " Call ID: k8tbw2rxb\n",
      "  Args:\n",
      "    query: One Piece\n",
      "=================================\u001b[1m Tool Message \u001b[0m=================================\n",
      "Name: wikipedia\n",
      "\n",
      "Page: One Piece\n",
      "Summary: One Piece (stylized in all caps) is a Japanese manga series written and illustrated by Eiichiro Oda. It follows the adventures of Monkey D. Luffy and his crew, the Straw Hat Pirates, as he explores the Grand Line in search of the mythical treasure known as the \"One Piece\" to become the next King of the Pirates.\n",
      "It has been serialized in Shueisha's shōnen manga magazine Weekly Shōnen Jump since July 1997, with its chapters compiled in 111 tankōbon volumes as of March 2025\n"
     ]
    }
   ],
   "source": [
    "messages = builder.invoke({\"messages\" : \"Give me a general Overview of One piece?\"})\n",
    "\n",
    "for msg in messages['messages']:\n",
    "    msg.pretty_print()"
   ]
  },
  {
   "cell_type": "markdown",
   "id": "a1bc71e1",
   "metadata": {},
   "source": [
    "## Another Workflow"
   ]
  },
  {
   "cell_type": "code",
   "execution_count": 19,
   "id": "d7d00ffe",
   "metadata": {},
   "outputs": [
    {
     "data": {
      "text/plain": [
       "<langgraph.graph.state.StateGraph at 0x22fc4122290>"
      ]
     },
     "execution_count": 19,
     "metadata": {},
     "output_type": "execute_result"
    }
   ],
   "source": [
    "def tool_calling_llm(state: State):\n",
    "    return {\"messages\": [llm_with_tool.invoke(state[\"messages\"])]}\n",
    "\n",
    "\n",
    "## Build the Graph\n",
    "graph1 = StateGraph(State)\n",
    "\n",
    "\n",
    "## Add Nodes to Graph\n",
    "graph1.add_node(\"tool_calling_llm\", tool_calling_llm)\n",
    "graph1.add_node(\"tools\", ToolNode(tools))  ## Adding the tools to ToolNode -> Passing all Tools the ToolNode\n",
    "\n",
    "\n",
    "## Add the Edges to the Grpah for Connecting the Nodes\n",
    "graph1.add_edge(START, \"tool_calling_llm\")\n",
    "graph1.add_conditional_edges(\n",
    "    \"tool_calling_llm\",\n",
    "\n",
    "    ## If the message from assistant is a tool call -> tools_condition routes to tools\n",
    "    ## If the message from assistant is a not tool call -> tools_condition routes to END\n",
    "\n",
    "    tools_condition,\n",
    "    \n",
    ")\n",
    "graph1.add_edge(\"tools\", \"tool_calling_llm\")\n",
    "graph1.add_edge(\"tool_calling_llm\", END)"
   ]
  },
  {
   "cell_type": "code",
   "execution_count": 20,
   "id": "0011ac94",
   "metadata": {},
   "outputs": [
    {
     "data": {
      "image/png": "[encoded data removed]",
      "text/plain": [
       "<IPython.core.display.Image object>"
      ]
     },
     "metadata": {},
     "output_type": "display_data"
    }
   ],
   "source": [
    "builder1 = graph1.compile()\n",
    "\n",
    "## Display the WorkFlow of Graph\n",
    "display(Image(builder1.get_graph().draw_mermaid_png()))"
   ]
  },
  {
   "cell_type": "code",
   "execution_count": 21,
   "id": "e20b92da",
   "metadata": {},
   "outputs": [
    {
     "name": "stdout",
     "output_type": "stream",
     "text": [
      "================================\u001b[1m Human Message \u001b[0m=================================\n",
      "\n",
      "Give a General Overview of One Piece and Also About the Recent Research About Rag?\n",
      "==================================\u001b[1m Ai Message \u001b[0m==================================\n",
      "Tool Calls:\n",
      "  wikipedia (cb0nbb2w3)\n",
      " Call ID: cb0nbb2w3\n",
      "  Args:\n",
      "    query: One Piece (manga)\n",
      "  arxiv (89vrc4rxr)\n",
      " Call ID: 89vrc4rxr\n",
      "  Args:\n",
      "    query: RAG (Retrieval-Augmented Generation)\n",
      "=================================\u001b[1m Tool Message \u001b[0m=================================\n",
      "Name: wikipedia\n",
      "\n",
      "Page: One Piece\n",
      "Summary: One Piece (stylized in all caps) is a Japanese manga series written and illustrated by Eiichiro Oda. It follows the adventures of Monkey D. Luffy and his crew, the Straw Hat Pirates, as he explores the Grand Line in search of the mythical treasure known as the \"One Piece\" to become the next King of the Pirates.\n",
      "It has been serialized in Shueisha's shōnen manga magazine Weekly Shōnen Jump since July 1997, with its chapters compiled in 111 tankōbon volumes as of March 2025\n",
      "=================================\u001b[1m Tool Message \u001b[0m=================================\n",
      "Name: arxiv\n",
      "\n",
      "Published: 2024-07-26\n",
      "Title: Modular RAG: Transforming RAG Systems into LEGO-like Reconfigurable Frameworks\n",
      "Authors: Yunfan Gao, Yun Xiong, Meng Wang, Haofen Wang\n",
      "Summary: Retrieval-augmented Generation (RAG) has markedly enhanced the capabilities\n",
      "of Large Language Models (LLMs) in tackling knowledge-intensive tasks. The\n",
      "increasing demands of application scenarios have driven the evolution of RAG,\n",
      "leading to the integration of advanced retrievers, LLMs and other complementary\n",
      "technologies, which\n",
      "==================================\u001b[1m Ai Message \u001b[0m==================================\n",
      "\n",
      "### General Overview of *One Piece*  \n",
      "*One Piece* is a globally acclaimed Japanese manga series created by Eiichiro Oda. It follows the adventures of **Monkey D. Luffy**, a young pirate with the ability to stretch like rubber after eating a Devil Fruit. Luffy’s goal is to find the legendary treasure \"One Piece\" and become the **King of the Pirates**. The story explores themes of freedom, friendship, and perseverance as Luffy and his diverse crew, the **Straw Hat Pirates**, navigate the treacherous world of the *Grand Line*.  \n",
      "\n",
      "Serialized since 1997 in *Weekly Shōnen Jump*, the series has grown into 111 tankōbon volumes (as of 2025) and spawned anime, films, and video games. Its enduring popularity stems from its intricate world-building, memorable characters, and epic storytelling.  \n",
      "\n",
      "---\n",
      "\n",
      "### Recent Research on RAG (Retrieval-Augmented Generation)  \n",
      "A **2024 arXiv paper** titled *\"Modular RAG: Transforming RAG Systems into LEGO-like Reconfigurable Frameworks\"* (authors: Yunfan Gao et al.) highlights advancements in **RAG systems**, which enhance large language models (LLMs) by integrating external knowledge retrieval. Key insights include:  \n",
      "1. **Modular Design**: Proposes a flexible framework where components (e.g., retrievers, generators) can be swapped or reconfigured like LEGO blocks, improving adaptability for different tasks.  \n",
      "2. **Advanced Integration**: Combines cutting-edge retrievers (e.g., dense vector search) and LLMs to handle complex, knowledge-intensive queries more effectively.  \n",
      "3. **Applications**: Emphasizes RAG’s role in fields requiring up-to-date or specialized knowledge, such as scientific research, legal analysis, and customer support.  \n",
      "\n",
      "This research reflects the growing focus on making RAG systems more dynamic and efficient, addressing limitations in static LLM knowledge.  \n",
      "\n",
      "---  \n",
      "Let me know if you'd like deeper details on either topic!\n"
     ]
    }
   ],
   "source": [
    "messages = builder1.invoke({\"messages\" : \"Give a General Overview of One Piece and Also About the Recent Research About Rag?\"})\n",
    "\n",
    "for msg in messages['messages']:\n",
    "    msg.pretty_print()"
   ]
  },
  {
   "cell_type": "markdown",
   "id": "e44ff140",
   "metadata": {},
   "source": [
    "### Adding Memory for Graph"
   ]
  },
  {
   "cell_type": "code",
   "execution_count": 22,
   "id": "edfd5fab",
   "metadata": {},
   "outputs": [
    {
     "name": "stdout",
     "output_type": "stream",
     "text": [
      "================================\u001b[1m Human Message \u001b[0m=================================\n",
      "\n",
      "Hello, My Name is Abi!\n",
      "==================================\u001b[1m Ai Message \u001b[0m==================================\n",
      "\n",
      "Hello, Abi! How can I assist you today?\n"
     ]
    }
   ],
   "source": [
    "response = builder1.invoke({\"messages\":\"Hello, My Name is Abi!\"})\n",
    "\n",
    "for msg in response['messages']:\n",
    "    msg.pretty_print()"
   ]
  },
  {
   "cell_type": "code",
   "execution_count": 24,
   "id": "561ee853",
   "metadata": {},
   "outputs": [
    {
     "name": "stdout",
     "output_type": "stream",
     "text": [
      "================================\u001b[1m Human Message \u001b[0m=================================\n",
      "\n",
      "What is My Name?\n",
      "==================================\u001b[1m Ai Message \u001b[0m==================================\n",
      "\n",
      "I don't have access to your personal information. If you're asking for your own name, I don't have that information stored. Could you please provide your name?\n"
     ]
    }
   ],
   "source": [
    "response = builder1.invoke({\"messages\":\"What is My Name?\"})\n",
    "\n",
    "for msg in response['messages']:\n",
    "    msg.pretty_print()"
   ]
  },
  {
   "cell_type": "code",
   "execution_count": 28,
   "id": "293d2187",
   "metadata": {},
   "outputs": [],
   "source": [
    "from langgraph.checkpoint.memory import MemorySaver\n",
    "\n",
    "memory = MemorySaver()"
   ]
  },
  {
   "cell_type": "code",
   "execution_count": 29,
   "id": "35effa9b",
   "metadata": {},
   "outputs": [
    {
     "data": {
      "text/plain": [
       "<langgraph.graph.state.StateGraph at 0x22fd441d490>"
      ]
     },
     "execution_count": 29,
     "metadata": {},
     "output_type": "execute_result"
    }
   ],
   "source": [
    "def tool_calling_llm(state: State):\n",
    "    return {\"messages\": [llm_with_tool.invoke(state[\"messages\"])]}\n",
    "\n",
    "\n",
    "## Build the Graph\n",
    "graph2 = StateGraph(State)\n",
    "\n",
    "\n",
    "## Add Nodes to Graph\n",
    "graph2.add_node(\"tool_calling_llm\", tool_calling_llm)\n",
    "graph2.add_node(\"tools\", ToolNode(tools))  ## Adding the tools to ToolNode -> Passing all Tools the ToolNode\n",
    "\n",
    "\n",
    "## Add the Edges to the Grpah for Connecting the Nodes\n",
    "graph2.add_edge(START, \"tool_calling_llm\")\n",
    "graph2.add_conditional_edges(\n",
    "    \"tool_calling_llm\",\n",
    "\n",
    "    ## If the message from assistant is a tool call -> tools_condition routes to tools\n",
    "    ## If the message from assistant is a not tool call -> tools_condition routes to END\n",
    "\n",
    "    tools_condition,\n",
    "    \n",
    ")\n",
    "graph2.add_edge(\"tools\", \"tool_calling_llm\")\n",
    "graph2.add_edge(\"tool_calling_llm\", END)    "
   ]
  },
  {
   "cell_type": "code",
   "execution_count": 30,
   "id": "9c6302a2",
   "metadata": {},
   "outputs": [
    {
     "data": {
      "image/png": "[encoded data removed]",
      "text/plain": [
       "<IPython.core.display.Image object>"
      ]
     },
     "metadata": {},
     "output_type": "display_data"
    }
   ],
   "source": [
    "builder2 = graph2.compile(checkpointer= memory)\n",
    "\n",
    "## Display the WorkFlow of Graph\n",
    "display(Image(builder2.get_graph().draw_mermaid_png()))"
   ]
  },
  {
   "cell_type": "code",
   "execution_count": 33,
   "id": "21e041e7",
   "metadata": {},
   "outputs": [],
   "source": [
    "config = {\"configurable\": {\"thread_id\":\"1\"}}"
   ]
  },
  {
   "cell_type": "code",
   "execution_count": 34,
   "id": "745ddfaf",
   "metadata": {},
   "outputs": [
    {
     "name": "stdout",
     "output_type": "stream",
     "text": [
      "================================\u001b[1m Human Message \u001b[0m=================================\n",
      "\n",
      "Hello, My Name is Abi!\n",
      "==================================\u001b[1m Ai Message \u001b[0m==================================\n",
      "\n",
      "Hello Abi! How can I help you today?\n"
     ]
    }
   ],
   "source": [
    "response = builder2.invoke({\"messages\":\"Hello, My Name is Abi!\"}, config=config)\n",
    "\n",
    "for msg in response['messages']:\n",
    "    msg.pretty_print()"
   ]
  },
  {
   "cell_type": "code",
   "execution_count": 38,
   "id": "67280e8b",
   "metadata": {},
   "outputs": [
    {
     "name": "stdout",
     "output_type": "stream",
     "text": [
      "================================\u001b[1m Human Message \u001b[0m=================================\n",
      "\n",
      "Hello, My Name is Abi!\n",
      "==================================\u001b[1m Ai Message \u001b[0m==================================\n",
      "\n",
      "Hello Abi! How can I help you today?\n",
      "================================\u001b[1m Human Message \u001b[0m=================================\n",
      "\n",
      "What is My Name\n",
      "==================================\u001b[1m Ai Message \u001b[0m==================================\n",
      "\n",
      "Your name is Abi! 😊 Let me know if there's anything else I can assist you with.\n",
      "================================\u001b[1m Human Message \u001b[0m=================================\n",
      "\n",
      "What is My Name?\n",
      "==================================\u001b[1m Ai Message \u001b[0m==================================\n",
      "\n",
      "Your name is Abi! 😊 Let me know if there's anything else I can assist you with.\n",
      "================================\u001b[1m Human Message \u001b[0m=================================\n",
      "\n",
      "hey What is my name?\n",
      "==================================\u001b[1m Ai Message \u001b[0m==================================\n",
      "\n",
      "Your name is Abi! 😊 Let me know if there's anything else I can assist you with.\n",
      "================================\u001b[1m Human Message \u001b[0m=================================\n",
      "\n",
      "Hey What is my name?\n",
      "==================================\u001b[1m Ai Message \u001b[0m==================================\n",
      "\n",
      "Your name is Abi! 😊 Let me know if there's anything else I can assist you with.\n"
     ]
    }
   ],
   "source": [
    "response = builder2.invoke({\"messages\":\"Hey What is my name?\"}, config=config)\n",
    "\n",
    "for msg in response['messages']:\n",
    "    msg.pretty_print()"
   ]
  },
  {
   "cell_type": "code",
   "execution_count": null,
   "id": "88e97501",
   "metadata": {},
   "outputs": [],
   "source": []
  }
 ],
 "metadata": {
  "kernelspec": {
   "display_name": "langgraph-handson",
   "language": "python",
   "name": "python3"
  },
  "language_info": {
   "codemirror_mode": {
    "name": "ipython",
    "version": 3
   },
   "file_extension": ".py",
   "mimetype": "text/x-python",
   "name": "python",
   "nbconvert_exporter": "python",
   "pygments_lexer": "ipython3",
   "version": "3.11.1"
  }
 },
 "nbformat": 4,
 "nbformat_minor": 5
}
