{
 "cells": [
  {
   "cell_type": "code",
   "execution_count": 1,
   "id": "6fe039f5",
   "metadata": {},
   "outputs": [],
   "source": [
    "import os\n",
    "from typing import Annotated, TypedDict, Literal, List\n",
    "from langchain_core.messages import BaseMessage, HumanMessage, AIMessage, SystemMessage\n",
    "from langchain_core.tools import tool\n",
    "from langchain_groq import ChatGroq\n",
    "from langchain_tavily import TavilySearch\n",
    "\n",
    "from langgraph.graph import StateGraph, START, END, MessagesState\n",
    "from langgraph.prebuilt import create_react_agent\n",
    "from langgraph.graph.message import add_messages\n",
    "from langgraph.checkpoint.memory import MemorySaver\n",
    "\n",
    "from dotenv import load_dotenv  \n",
    "load_dotenv() \n",
    "\n",
    "os.environ[\"GROQ_API_KEY\"]=os.getenv(\"GROQ_API_KEY\")\n",
    "os.environ[\"LANGSMITH_API_KEY\"]=os.getenv(\"LANGSMITH_API_KEY\")\n",
    "os.environ[\"TAVILY_API_KEY\"]=os.getenv(\"TAVILY_API_KEY\")"
   ]
  },
  {
   "cell_type": "code",
   "execution_count": 2,
   "id": "bfcd31d5",
   "metadata": {},
   "outputs": [],
   "source": [
    "## Defining the State schema\n",
    "class AgentState(MessagesState):\n",
    "    next_agent: str ## The next agent to call"
   ]
  },
  {
   "cell_type": "code",
   "execution_count": 3,
   "id": "c3131d09",
   "metadata": {},
   "outputs": [],
   "source": [
    "@tool\n",
    "def search_web(query: str) -> str:\n",
    "    \"\"\"Search the web for a query.\"\"\"\n",
    "    search = TavilySearch(max_results=3)\n",
    "    results = search.invoke(query)\n",
    "    return results\n",
    "\n",
    "\n",
    "@tool \n",
    "def write_summary(content: str) -> str:\n",
    "    \"\"\"Write a summary of the content.\"\"\"\n",
    "    summary = f\"Summary of the content: \\n\\n{content[:500]}...\"\n",
    "    return summary"
   ]
  },
  {
   "cell_type": "code",
   "execution_count": 4,
   "id": "739ac28c",
   "metadata": {},
   "outputs": [],
   "source": [
    "llm = ChatGroq(model=\"llama3-8b-8192\")"
   ]
  },
  {
   "cell_type": "code",
   "execution_count": 5,
   "id": "3abb06e4",
   "metadata": {},
   "outputs": [],
   "source": [
    "from langchain_core.messages import BaseMessage, HumanMessage, AIMessage, SystemMessage\n",
    "\n",
    "def research_agent(state: AgentState):\n",
    "    \"\"\" Research agent that searches the Information. \"\"\"\n",
    "\n",
    "    messages = state['messages']\n",
    "\n",
    "    system_msg = SystemMessage(content = \"You are a research assistant. Use the seach_web tool to find information about the topic that the user is asking about.\")\n",
    "\n",
    "    ### Call the llm with tools\n",
    "    researcher_llm = llm.bind_tools([search_web])\n",
    "    response = researcher_llm.invoke(\n",
    "        [system_msg] + messages,\n",
    "    )\n",
    "\n",
    "    ## return the response\n",
    "    return {\n",
    "        \"messages\": [response],\n",
    "        \"next_agent\": \"writer\"\n",
    "    }"
   ]
  },
  {
   "cell_type": "code",
   "execution_count": 6,
   "id": "52001367",
   "metadata": {},
   "outputs": [],
   "source": [
    "def writer_agent(state: AgentState):\n",
    "    \"\"\" Writer agent that writes a summary of the information. \"\"\"\n",
    "\n",
    "    messages = state['messages']\n",
    "\n",
    "    system_msg = SystemMessage(content = \"You are a technical writer. Review the Conversation and create a clear, concise summary of the findings.\")\n",
    "\n",
    "    ### Call the llm with tools\n",
    "    response = llm.invoke(\n",
    "        [system_msg] + messages,\n",
    "    )\n",
    "\n",
    "    ## return the response\n",
    "    return {\n",
    "        \"messages\": [response],\n",
    "        \"next_agent\": \"end\"\n",
    "    }"
   ]
  },
  {
   "cell_type": "code",
   "execution_count": 7,
   "id": "a0c368cb",
   "metadata": {},
   "outputs": [],
   "source": [
    "from langgraph.prebuilt import ToolNode\n",
    "def execute_tools(state : AgentState):\n",
    "    \"\"\" Execute any pending tool calls. \"\"\"\n",
    "\n",
    "    messages = state['messages']\n",
    "    \n",
    "    last_message = messages[-1]\n",
    "\n",
    "    if hasattr(last_message, \"tools_calls\") and last_message.tools_calls:\n",
    "        \n",
    "        tool_node = ToolNode([search_web, write_summary])\n",
    "        response = tool_node.invoke(state)\n",
    "        return response\n",
    "\n",
    "    return state"
   ]
  },
  {
   "cell_type": "code",
   "execution_count": 8,
   "id": "040421da",
   "metadata": {},
   "outputs": [
    {
     "data": {
      "image/png": "[encoded data removed]",
      "text/plain": [
       "<langgraph.graph.state.CompiledStateGraph object at 0x000001AC14CF2A10>"
      ]
     },
     "execution_count": 8,
     "metadata": {},
     "output_type": "execute_result"
    }
   ],
   "source": [
    "workflow = StateGraph(AgentState) \n",
    "\n",
    "workflow.add_node(\"research_agent\", research_agent)\n",
    "workflow.add_node(\"writer_agent\", writer_agent)\n",
    "\n",
    "workflow.set_entry_point(\"research_agent\")\n",
    "workflow.add_edge(\"research_agent\", \"writer_agent\")\n",
    "workflow.add_edge(\"writer_agent\", END)\n",
    "\n",
    "builder = workflow.compile()\n",
    "\n",
    "builder"
   ]
  },
  {
   "cell_type": "code",
   "execution_count": 12,
   "id": "6b4e62ca",
   "metadata": {},
   "outputs": [
    {
     "name": "stdout",
     "output_type": "stream",
     "text": [
      "================================\u001b[1m Human Message \u001b[0m=================================\n",
      "\n",
      "Research About the usecase of Agentic AI in Software Development?\n",
      "==================================\u001b[1m Ai Message \u001b[0m==================================\n",
      "Tool Calls:\n",
      "  search_web (f8zzjh7ed)\n",
      " Call ID: f8zzjh7ed\n",
      "  Args:\n",
      "    query: Agentic AI in Software Development\n",
      "==================================\u001b[1m Ai Message \u001b[0m==================================\n",
      "\n",
      " \n",
      "\n",
      "Summary:\n",
      "\n",
      "The research on the use case of Agentic AI in software development reveals that Agentic AI, a type of artificial intelligence that enables machines to make decisions independently, has the potential to revolutionize the software development process. The study highlights the following key findings:\n",
      "\n",
      "1. **Improved Efficiency**: Agentic AI can automate repetitive and time-consuming tasks, allowing developers to focus on higher-level tasks that require creativity and critical thinking.\n",
      "2. **Enhanced Collaboration**: Agentic AI can facilitate collaboration between humans and machines, enabling developers to work more efficiently and effectively with AI-powered tools.\n",
      "3. **Increased Productivity**: By automating routine tasks, Agentic AI can help developers complete tasks faster and more accurately, leading to increased productivity.\n",
      "4. **Better Code Quality**: Agentic AI can analyze code and provide feedback on quality, security, and maintainability, helping developers to write better code.\n",
      "5. **Improved Testing**: Agentic AI can simulate user behavior and test software more effectively, reducing the need for manual testing and improving overall software quality.\n",
      "6. **Faster Bug Detection**: Agentic AI can detect bugs and errors more quickly and accurately than human developers, reducing the time and cost associated with bug fixing.\n",
      "7. **Enhanced User Experience**: Agentic AI can analyze user behavior and feedback to improve software user experience, making it more intuitive and user-friendly.\n",
      "\n",
      "The study concludes that Agentic AI has the potential to transform the software development process, improving efficiency, productivity, and code quality while reducing errors and improving user experience. However, further research is needed to fully understand the potential benefits and challenges of integrating Agentic AI into software development workflows.\n"
     ]
    }
   ],
   "source": [
    "response = builder.invoke({\"messages\": \"Research About the usecase of Agentic AI in Software Development?\"})\n",
    "for message in response['messages']:\n",
    "    message.pretty_print()"
   ]
  },
  {
   "cell_type": "code",
   "execution_count": null,
   "id": "1042c6f3",
   "metadata": {},
   "outputs": [],
   "source": []
  }
 ],
 "metadata": {
  "kernelspec": {
   "display_name": "langgraph-handson",
   "language": "python",
   "name": "python3"
  },
  "language_info": {
   "codemirror_mode": {
    "name": "ipython",
    "version": 3
   },
   "file_extension": ".py",
   "mimetype": "text/x-python",
   "name": "python",
   "nbconvert_exporter": "python",
   "pygments_lexer": "ipython3",
   "version": "3.11.1"
  }
 },
 "nbformat": 4,
 "nbformat_minor": 5
}
